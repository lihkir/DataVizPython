{
 "cells": [
  {
   "cell_type": "markdown",
   "metadata": {},
   "source": [
    "# Introducción a `Dash`"
   ]
  },
  {
   "cell_type": "markdown",
   "metadata": {},
   "source": [
    "## Introducción\n",
    "\n",
    "- Descargado 600.000 veces al mes, Dash es el marco original de bajo código para construir rápidamente aplicaciones de datos en `Python, R, Julia y F#.`\n",
    "\n",
    "- Escrito sobre `Plotly.js` y `React.js`, `Dash` es ideal para construir y desplegar aplicaciones de datos con interfaces de usuario personalizadas en `Python, R, Julia` o `F#`. Es particularmente adecuado para cualquiera que trabaje con datos.\n",
    "\n",
    "- A través de un par de patrones simples, `Dash` abstrae todas las tecnologías y protocolos que se requieren para construir una aplicación web full-stack con visualización de datos interactivos.\n",
    "\n",
    "- `Dash` es lo suficientemente sencillo como para que puedas vincular una interfaz de usuario a tu código `Python, R, Julia` o `F#` en menos de 10 minutos.\n",
    "\n",
    "- Las aplicaciones de `Dash` se muestran en el navegador web. Puedes desplegar tus aplicaciones en máquinas virtuales o clusters Kubernetes y luego compartirlas a través de URLs. Dado que las aplicaciones de `Dash` se ven en el navegador web, `Dash` es intrínsecamente multiplataforma y está preparado para los dispositivos móviles.\n",
    "\n",
    "- Hay mucho detrás del framework. Para saber más sobre cómo está construido y qué motivó a `Dash`, lea el post [Dash es React para Python](https://medium.com/plotly/dash-is-react-for-python-r-and-julia-c75822d1cc24). Puede encontrar distintos templates de `Dash` en el siguiente link, los cuales puedes utlizar para tus proyectos: [Dash Enterprise App Gallery](https://dash.gallery/Portal/)\n",
    "\n",
    "- `Dash` es una librería de código abierto liberada bajo la permisiva licencia MIT. `Plotly` desarrolla `Dash` y también ofrece una plataforma para escribir y desplegar aplicaciones `Dash` en un entorno empresarial."
   ]
  },
  {
   "cell_type": "markdown",
   "metadata": {},
   "source": [
    "````{figure} ./figures/dash1.png\n",
    ":name: dash1_fig\n",
    ":align: center\n",
    ":scale: 60\n",
    "````"
   ]
  },
  {
   "cell_type": "markdown",
   "metadata": {},
   "source": [
    "## Configuración de su entorno\n",
    "\n",
    "- Para la isntalación de `Dash` crearemos un entorno especial, en el cual isntalaremos cada una de las librería que necesitaremos en el transcurso de esta sección, en especial la isntalación de `Dash` mediante la orden: `pip install dash`. En su esencia, el propósito principal de los entornos virtuales (enviroment) de `Python` es crear un entorno aislado para los proyectos de `Python`. Esto significa que cada proyecto puede tener sus propias dependencias, independientemente de las dependencias que tengan los demás proyectos. Lo bueno de esto es que no hay límites en el número de entornos que puedes tener, ya que sólo son directorios que contienen unos pocos scripts. Además, son fácilmente creados usando las herramientas de línea de comandos `virtualenv` o `pyenv`, en el caso de `anaconda` por medio de `conda create`"
   ]
  },
  {
   "cell_type": "markdown",
   "metadata": {},
   "source": [
    "- Crea un enviroment virtual de `Python` en una carpeta llamada `dash_project` (o cualquier otro nombre que quieras). Esto también creará una nueva carpeta con el nombre que hayas elegido. Escriba la siguiente orden un su terminal, en el caso de `Windows`, en el **Command Prompt** o en el **Windows PowerShell** que tiene un aspecta muy parecido al de `Ubuntu`. Puedes elegir la carpeta donde van a reposar todos tus `enviroment`"
   ]
  },
  {
   "cell_type": "markdown",
   "metadata": {},
   "source": [
    "````{figure} ./figures/dash2.png\n",
    ":name: dash2_fig\n",
    ":align: center\n",
    "````"
   ]
  },
  {
   "cell_type": "markdown",
   "metadata": {},
   "source": [
    "- Luego nos vamos a mover a la carpeta que se creó con el enviroment: **dash_project** usando el comando `cd`, y dentro de esta vamos a ejecutar la siguiente orden para activar en enviroment: `.\\Scripts\\activate` tal como se muestra en la figura. Nótese que en la parte izquierda de la línea de comandos, aparece el nombre del enviroment en color verde, indicando que ha sido creado correctamente y está activado. Luego de activado el enviroment se puede mover al directorio donde desea realizar el desarrollo de esta sección, antes instalaremos algunas librerías"
   ]
  },
  {
   "cell_type": "markdown",
   "metadata": {},
   "source": [
    "````{figure} ./figures/dash3.png\n",
    ":name: dash3_fig\n",
    ":align: center\n",
    "````"
   ]
  },
  {
   "cell_type": "markdown",
   "metadata": {},
   "source": [
    "- En su terminal, instale dash.\n",
    "\n",
    "```shell\n",
    "pip install dash\n",
    "```\n",
    "- Esto también trae consigo la biblioteca de gráficos plotly. Esta biblioteca está en desarrollo activo, así que instala y actualiza con frecuencia. Si prefieres Jupyter notebook o JupyterLab como entorno de desarrollo, te recomendamos instalar jupyter-dash:\n",
    "\n",
    "```shell\n",
    "pip install jupyter-dash\n",
    "```\n",
    "- También recomendamos instalar `Pandas`, que es requerido por `Plotly Express` y utilizado en muchos de nuestros ejemplos.\n",
    "\n",
    "```shell\n",
    "pip install pandas\n",
    "```\n",
    "- Estamos listos para crear nuestra primera aplicación Dash. Cada una de estas librerías pueden ser isntaladas también a traves de un archivo con requerimientos, el cual podemos crear con el nombre: `requirements.txt` y copiar en éste sin espacio a la izquierda el nombre de cada librería, así:\n",
    "\n",
    "```shell\n",
    "dash\n",
    "jupyter-dash\n",
    "pandas\n",
    "```\n",
    "\n",
    "- Luego desde la línea de comando ejecutar\n",
    "\n",
    "```shell\n",
    "pip install -r requirements.txt\n",
    "```\n",
    "\n",
    "- Estaremos usando en esta sección `jupyter lab` debido a que es gratis. Otras opciones son: `Sublime, VS Code, Atom` entre otras. Seleccione aquel editor con el que se sienta más comodo. Para instalar `jupyter lab` escriba dentro del mismo enviroment\n",
    "\n",
    "```shell\n",
    "pip install jupyterlab\n",
    "```"
   ]
  },
  {
   "cell_type": "markdown",
   "metadata": {},
   "source": [
    "````{figure} ./figures/dash4.png\n",
    ":name: dash4_fig\n",
    ":align: center\n",
    "````"
   ]
  },
  {
   "cell_type": "markdown",
   "metadata": {},
   "source": [
    "- Iniciamos `jupyter lab` para crear el archivo `requirements.txt` con las librerías a instalar. Este archivo podemos ir actualizándolo en el transcurso de la sección a medida que una nueva librería va siendo necesaria."
   ]
  },
  {
   "cell_type": "markdown",
   "metadata": {},
   "source": [
    "````{figure} ./figures/dash5.png\n",
    ":name: dash5_fig\n",
    ":align: center\n",
    "````"
   ]
  },
  {
   "cell_type": "markdown",
   "metadata": {},
   "source": [
    "````{figure} ./figures/dash6.png\n",
    ":name: dash6_fig\n",
    ":align: center\n",
    "````"
   ]
  },
  {
   "cell_type": "markdown",
   "metadata": {},
   "source": [
    "- Crea el archivo `requirements.txt` con librerías a instalar. Nótese que `jupyter lab` cuenta también con una terminal integrada, por lo tanto, luego de crear el archivo, puede abrir una terminal dentro de `jupyter lab`, activar el enviroment y luego instalar las librerías usando `pip install -r requirements.txt`"
   ]
  },
  {
   "cell_type": "markdown",
   "metadata": {},
   "source": [
    "````{figure} ./figures/dash7.png\n",
    ":name: dash7_fig\n",
    ":align: center\n",
    "````"
   ]
  },
  {
   "cell_type": "markdown",
   "metadata": {},
   "source": [
    "## Diseño de Dash"
   ]
  },
  {
   "cell_type": "markdown",
   "metadata": {},
   "source": [
    "- Estudiaremos el diseño a través de seis aplicaciones autónomas. El diseño de las aplicaciones `Dash` de producción puede ser estilizado con [Dash Enterprise Design Kit](https://plotly.com/dash/design-kit/?tab=templates). Las aplicaciones `Dash` se componen de dos partes. La primera parte es el \"diseño\" de la aplicación y describe el aspecto de la misma. La segunda parte describe la interactividad de la aplicación y será cubierta más adelante.\n",
    "\n",
    "- Mantenemos un conjunto de componentes en la biblioteca `dash_core_components` y `dash_html_components` (`dash.html` a partir de `Dash v2.0`) pero también puedes construir los suyos con `JavaScript` y `React.js`. A lo largo de esta sección, los ejemplos de código `Python` están pensados para ser guardados como archivos y ejecutados usando `python app.py`. También puedes usar `Jupyter` con la biblioteca `JupyterDash`.\n",
    "\n",
    "- Para empezar, crea un archivo llamado `app.py`, copia el código de abajo en él y ejecútalo con `python app.py` luego visite http://127.0.0.1:8050/ en su navegador web para ver la aplicación\n",
    "\n",
    "```python\n",
    "import dash\n",
    "from dash import dcc\n",
    "from dash import html\n",
    "import plotly.express as px\n",
    "import pandas as pd\n",
    "\n",
    "app = dash.Dash(__name__)\n",
    "\n",
    "df = pd.DataFrame({\n",
    "    \"Fruit\": [\"Apples\", \"Oranges\", \"Bananas\", \"Apples\", \"Oranges\", \"Bananas\"],\n",
    "    \"Amount\": [4, 1, 2, 2, 4, 5],\n",
    "    \"City\": [\"SF\", \"SF\", \"SF\", \"Montreal\", \"Montreal\", \"Montreal\"]\n",
    "})\n",
    "\n",
    "fig = px.bar(df, x=\"Fruit\", y=\"Amount\", color=\"City\", barmode=\"group\")\n",
    "\n",
    "app.layout = html.Div(children=[\n",
    "    html.H1(children='Hello Dash'),\n",
    "\n",
    "    html.Div(children='''\n",
    "        Dash: A web application framework for your data.\n",
    "    '''),\n",
    "\n",
    "    dcc.Graph(\n",
    "        id='example-graph',\n",
    "        figure=fig\n",
    "    )\n",
    "])\n",
    "\n",
    "if __name__ == '__main__':\n",
    "    app.run_server(debug=True)\n",
    "```"
   ]
  },
  {
   "cell_type": "markdown",
   "metadata": {},
   "source": [
    "````{figure} ./figures/dash8.png\n",
    ":name: dash8_fig\n",
    ":align: center\n",
    "````"
   ]
  },
  {
   "cell_type": "markdown",
   "metadata": {},
   "source": [
    "````{figure} ./figures/dash9.png\n",
    ":name: dash9_fig\n",
    ":align: center\n",
    "````"
   ]
  },
  {
   "cell_type": "markdown",
   "metadata": {},
   "source": [
    "````{figure} ./figures/dash10.png\n",
    ":name: dash10_fig\n",
    ":align: center\n",
    "````"
   ]
  },
  {
   "cell_type": "markdown",
   "metadata": {},
   "source": [
    "````{figure} ./figures/dash11.png\n",
    ":name: dash11_fig\n",
    ":align: center\n",
    "````"
   ]
  },
  {
   "cell_type": "markdown",
   "metadata": {},
   "source": [
    "- Para tener otro estilo de visualización puede diseñar tu propio archivos `style.css` por ejemplo, o utilizar algunos libres que puedes solo importar, como por ejemplo [BootstrapCDN](https://www.bootstrapcdn.com/bootswatch/) y [Plotly themes](https://plotly.com/python/templates/). Para importar los estilos de temas en tu app debe importar la librería en el archivo `.py` principal de tu app: `import dash_bootstrap_components as dbc`, además de usar la siguiente línea para seleccionar el tema de interés \n",
    "```python\n",
    "app = dash.Dash(external_stylesheets=[dbc.themes.BOOTSTRAP])\n",
    "```\n",
    "- Antes debe instalarlo en el enviroment usando: `pip install dash-bootstrap-components`"
   ]
  },
  {
   "cell_type": "markdown",
   "metadata": {},
   "source": [
    "````{figure} ./figures/dash12.png\n",
    ":name: dash12_fig\n",
    ":align: center\n",
    "````"
   ]
  },
  {
   "cell_type": "markdown",
   "metadata": {},
   "source": [
    "````{figure} ./figures/dash13.png\n",
    ":name: dash13_fig\n",
    ":align: center\n",
    "````"
   ]
  },
  {
   "cell_type": "markdown",
   "metadata": {},
   "source": [
    "**Observaciones**\n",
    "\n",
    "- El diseño está compuesto por un árbol de \"componentes\" como `html.Div` y `dcc.Graph`.\n",
    "\n",
    "- La biblioteca `dash_html_components` (`dash.html` a partir de `Dash v2.0`) tiene un componente para cada etiqueta `HTML`. El componente `html.H1(children = 'Hola Dash')` genera un elemento `HTML <h1>Hola Dash</h1>` en tu aplicación. `h1` en `HTML` es el primer nivel de encabezado en una página web.\n",
    "\n",
    "- No todos los componentes son `HTML` puro. Los `dash_core_components` describen componentes de nivel superior que son interactivos y se generan con `JavaScript, HTML` y `CSS` a través de la biblioteca `React.js`.\n",
    "\n",
    "- Cada componente se describe completamente a través de atributos de palabras clave. `Dash` es declarativo: usted describirá principalmente su aplicación a través de estos atributos.\n",
    "\n",
    "- La propiedad `children` es especial. Por convención, siempre es el primer atributo, lo que significa que puedes omitirlo: `html.H1(children = 'Hello Dash')` es lo mismo que `html.H1('Hello Dash')`. Puede contener una cadena, un número, un solo componente o una lista de componentes.\n",
    "\n",
    "- Las fuentes en su aplicación se verán un poco diferentes de lo que se muestra en la imágen de arriba a menos que cambie el estilo de la hoja y de `Plotly`. Esta aplicación está utilizando una hoja de estilos `BootstrapCDN` y temas `Plotly`"
   ]
  },
  {
   "cell_type": "markdown",
   "metadata": {},
   "source": [
    "**Realizar tu primer cambio**\n",
    "\n",
    "- `Dash` incluye \"hot-reloading\", esta característica se activa por defecto cuando ejecutas tu aplicación con `app.run_server(debug=True)`. Esto significa que `Dash` refrescará automáticamente tu navegador cuando hagas un cambio en tu código. Pruébalo: cambia el título \"Hello Dash\" en tu aplicación o cambia los datos $x$ o $y$. Tu aplicación debería refrescarse automáticamente con tu cambio."
   ]
  },
  {
   "cell_type": "markdown",
   "metadata": {},
   "source": [
    "## Más información sobre los componentes HTML\n",
    "\n",
    "- `dash_html_components` (`dash.html` a partir de `Dash v2.0`) contiene una clase de componente para cada etiqueta `HTML`, así como argumentos de palabras clave para todos los argumentos `HTML`. Vamos a personalizar el texto de nuestra aplicación modificando los estilos en línea de los componentes. Crea un archivo llamado `app.py` con el siguiente código\n",
    "\n",
    "```python\n",
    "import dash\n",
    "from dash import dcc\n",
    "from dash import html\n",
    "import plotly.express as px\n",
    "import pandas as pd\n",
    "\n",
    "app = dash.Dash(__name__)\n",
    "\n",
    "colors = {\n",
    "    'background': '#111111',\n",
    "    'text': '#7FDBFF'\n",
    "}\n",
    "\n",
    "df = pd.DataFrame({\n",
    "    \"Fruit\": [\"Apples\", \"Oranges\", \"Bananas\", \"Apples\", \"Oranges\", \"Bananas\"],\n",
    "    \"Amount\": [4, 1, 2, 2, 4, 5],\n",
    "    \"City\": [\"SF\", \"SF\", \"SF\", \"Montreal\", \"Montreal\", \"Montreal\"]\n",
    "})\n",
    "\n",
    "fig = px.bar(df, x = \"Fruit\", y = \"Amount\", color = \"City\", barmode = \"group\")\n",
    "\n",
    "fig.update_layout(\n",
    "    plot_bgcolor = colors['background'],\n",
    "    paper_bgcolor = colors['background'],\n",
    "    font_color = colors['text']\n",
    ")\n",
    "\n",
    "app.layout = html.Div(style={'backgroundColor': colors['background']}, children=[\n",
    "    html.H1(\n",
    "        children = 'Hello Dash',\n",
    "        style = {\n",
    "            'textAlign': 'center',\n",
    "            'color': colors['text']\n",
    "        }\n",
    "    ),\n",
    "    \n",
    "    html.Div(children = 'Dash: A web application framework for your data.', style = {\n",
    "        'textAlign': 'center',\n",
    "        'color': colors['text']\n",
    "    }),\n",
    "    \n",
    "    dcc.Graph(\n",
    "        id='example-graph-2',\n",
    "        figure=fig\n",
    "    )\n",
    "])\n",
    "\n",
    "if __name__ == '__main__':\n",
    "    app.run_server(debug=True)\n",
    "```"
   ]
  },
  {
   "cell_type": "markdown",
   "metadata": {},
   "source": [
    "````{figure} ./figures/dash14.png\n",
    ":name: dash14_fig\n",
    ":align: center\n",
    "````"
   ]
  },
  {
   "cell_type": "markdown",
   "metadata": {},
   "source": [
    "- En este ejemplo, hemos modificado los estilos inline de los componentes `html.Div` y `html.H1` con la propiedad style.\n",
    "\n",
    "```python\n",
    "html.H1('Hello Dash', style={'textAlign': 'center', 'color': '#7FDBFF'})\n",
    "```\n",
    "- El código anterior se muestra en la aplicación `Dash` como \n",
    "\n",
    "```html\n",
    "<h1 style=\"text-align: center; color: #7FDBFF\">Hola Dash</h1>.\n",
    "```\n",
    "\n",
    "- Hay algunas diferencias importantes entre los componentes `dash_html_` (`dash.html` a partir de `Dash v2.0`) y los atributos `HTML`:\n",
    "\n",
    "    - La propiedad de estilo en `HTML` es una cadena separada por punto y coma. En `Dash`, sólo se puede proporcionar un diccionario.\n",
    "    - Las claves (keys) en el diccionario de estilo son [camelCased](https://en.wikipedia.org/wiki/Camel_case). Así, en lugar de `text-align`, es `textAlign`. El atributo de clase `HTML` es `className` en `Dash`.\n",
    "    \n",
    "    - Los hijos (children) de la etiqueta `HTML` se especifican a través del argumento de la palabra clave children. Por convención, éste es siempre el primer argumento, por lo que a menudo se omite.\n",
    "    \n",
    "    - Además de esto, todos los atributos y etiquetas `HTML` disponibles están a tu disposición dentro del contexto de `Python`."
   ]
  },
  {
   "cell_type": "markdown",
   "metadata": {},
   "source": [
    "## Componentes reutilizables\n",
    "\n",
    "- Escribiendo nuestro markup en `Python`, podemos crear componentes complejos reutilizables como tablas sin cambiar de contexto o de lenguaje. Aquí hay un ejemplo rápido que genera una tabla `Table` a partir de un dataframe de `Pandas`. Crea un archivo llamado `app.py` con el siguiente código\n",
    "\n",
    "```python\n",
    "import dash\n",
    "from dash import html\n",
    "import pandas as pd\n",
    "\n",
    "df = pd.read_csv('https://raw.githubusercontent.com/lihkir/Uninorte/main/AppliedStatisticMS/DataVisualizationRPython/Lectures/Python/PythonDataSets/usa-agricultural-exports-2011.csv')\n",
    "\n",
    "def generate_table(dataframe, max_rows=10):\n",
    "    return html.Table([\n",
    "        html.Thead(\n",
    "            html.Tr([html.Th(col) for col in dataframe.columns])\n",
    "        ),\n",
    "        html.Tbody([\n",
    "            html.Tr([\n",
    "                html.Td(dataframe.iloc[i][col]) for col in dataframe.columns\n",
    "            ]) for i in range(min(len(dataframe), max_rows))\n",
    "        ])\n",
    "    ])\n",
    "\n",
    "\n",
    "app = dash.Dash(__name__)\n",
    "\n",
    "app.layout = html.Div([\n",
    "    html.H4(children='US Agriculture Exports (2011)'),\n",
    "    generate_table(df)\n",
    "])\n",
    "\n",
    "if __name__ == '__main__':\n",
    "    app.run_server(debug=True)\n",
    "\n",
    "```"
   ]
  },
  {
   "cell_type": "markdown",
   "metadata": {},
   "source": [
    "````{figure} ./figures/dash15.png\n",
    ":name: dash15_fig\n",
    ":align: center\n",
    "````"
   ]
  },
  {
   "cell_type": "markdown",
   "metadata": {},
   "source": [
    "## Más información sobre la visualización\n",
    "\n",
    "- La librería `dash_core_components` incluye un componente llamado `Graph`. `Graph` muestra visualizaciones de datos interactivas utilizando la librería de gráficos de código abierto `plotly.js`. `Plotly.js` admite más de 35 tipos de gráficos y los representa tanto en `SVG` de calidad vectorial como en `WebGL` de alto rendimiento.\n",
    "\n",
    "- El argumento de figura en el `componenteGraph` es el mismo argumento de figura que utiliza `plotly.py`, la biblioteca de gráficos `Python` de código abierto de `Plotly`. Consulte la documentación y la galería de [plotly.py para obtener más información](https://plotly.com/python/). Aquí presentamos un ejemplo que crea un gráfico de dispersión a partir de un marco de datos de `Pandas`. Cree un archivo llamado `app.py` con el siguiente código:\n",
    "\n",
    "```python\n",
    "import dash\n",
    "from dash import dcc\n",
    "from dash import html\n",
    "import plotly.express as px\n",
    "import pandas as pd\n",
    "\n",
    "app = dash.Dash(__name__)\n",
    "\n",
    "df = pd.read_csv('https://raw.githubusercontent.com/lihkir/Uninorte/main/AppliedStatisticMS/DataVisualizationRPython/Lectures/Python/PythonDataSets/gdp-life-exp-2007.csv')\n",
    "\n",
    "fig = px.scatter(df, x=\"gdp per capita\", y=\"life expectancy\",\n",
    "                 size=\"population\", color=\"continent\", hover_name=\"country\",\n",
    "                 log_x=True, size_max=60)\n",
    "\n",
    "app.layout = html.Div([\n",
    "    dcc.Graph(\n",
    "        id='life-exp-vs-gdp',\n",
    "        figure=fig\n",
    "    )\n",
    "])\n",
    "\n",
    "if __name__ == '__main__':\n",
    "    app.run_server(debug=True)\n",
    "```"
   ]
  },
  {
   "cell_type": "markdown",
   "metadata": {},
   "source": [
    "````{figure} ./figures/dash16.png\n",
    ":name: dash16_fig\n",
    ":align: center\n",
    "````"
   ]
  },
  {
   "cell_type": "markdown",
   "metadata": {},
   "source": [
    "## Markdown\n",
    "\n",
    "- Aunque `Dash` expone `HTML` a través de `dash_html_components` (`dash.html` a partir de `Dash v2.0`) , puede ser tedioso escribir tu copia en `HTML`. Para escribir bloques de texto, puedes utilizar el componente `Markdown` en `dash_core_components`. Crea un archivo llamado app.py con el siguiente código:\n",
    "\n",
    "```python\n",
    "import dash\n",
    "from dash import dcc\n",
    "from dash import html\n",
    "\n",
    "app = dash.Dash(__name__)\n",
    "\n",
    "markdown_text = '''\n",
    "##Dash and Markdown\n",
    "\n",
    "- Dash apps can be written in Markdown. \n",
    "- Dash uses the [CommonMark](http://commonmark.org/) specification of Markdown. \n",
    "- Check out their [60 Second Markdown Tutorial](http://commonmark.org/help/) if this is your first introduction to Markdown!\n",
    "'''\n",
    "\n",
    "app.layout = html.Div([\n",
    "    dcc.Markdown(children=markdown_text)\n",
    "])\n",
    "\n",
    "if __name__ == '__main__':\n",
    "    app.run_server(debug=True)\n",
    "```"
   ]
  },
  {
   "cell_type": "markdown",
   "metadata": {},
   "source": [
    "````{figure} ./figures/dash17.png\n",
    ":name: dash17_fig\n",
    ":align: center\n",
    "````"
   ]
  },
  {
   "cell_type": "markdown",
   "metadata": {},
   "source": [
    "## Componentes principales\n",
    "\n",
    "- `dash_core_components` incluye un conjunto de componentes de alto nivel como los desplegables, los gráficos, los bloques markdown, etc.\n",
    "\n",
    "- Como todos los componentes de `Dash`, se describen de forma totalmente declarativa. Cada opción configurable está disponible como un argumento de palabra clave del componente.\n",
    "\n",
    "- Veremos muchos de estos componentes a lo largo de la sección. Puedes ver todos los componentes disponibles en la [Galería de componentes del núcleo de Dash](https://dash.plotly.com/dash-core-components).\n",
    "\n",
    "- Aquí están algunos de los componentes disponibles. Crea un archivo llamado `app.py` con el siguiente código:\n",
    "\n",
    "```python\n",
    "import dash\n",
    "from dash import dcc\n",
    "from dash import html\n",
    "\n",
    "app = dash.Dash(__name__)\n",
    "\n",
    "app.layout = html.Div([\n",
    "    html.Label('Dropdown'),\n",
    "    dcc.Dropdown(\n",
    "        options=[\n",
    "            {'label': 'New York City', 'value': 'NYC'},\n",
    "            {'label': u'Montréal', 'value': 'MTL'},\n",
    "            {'label': 'San Francisco', 'value': 'SF'}\n",
    "        ],\n",
    "        value='MTL'\n",
    "    ),\n",
    "\n",
    "    html.Label('Multi-Select Dropdown'),\n",
    "    dcc.Dropdown(\n",
    "        options=[\n",
    "            {'label': 'New York City', 'value': 'NYC'},\n",
    "            {'label': u'Montréal', 'value': 'MTL'},\n",
    "            {'label': 'San Francisco', 'value': 'SF'}\n",
    "        ],\n",
    "        value=['MTL', 'SF'],\n",
    "        multi=True\n",
    "    ),\n",
    "\n",
    "    html.Label('Radio Items'),\n",
    "    dcc.RadioItems(\n",
    "        options=[\n",
    "            {'label': 'New York City', 'value': 'NYC'},\n",
    "            {'label': u'Montréal', 'value': 'MTL'},\n",
    "            {'label': 'San Francisco', 'value': 'SF'}\n",
    "        ],\n",
    "        value='MTL'\n",
    "    ),\n",
    "\n",
    "    html.Label('Checkboxes'),\n",
    "    dcc.Checklist(\n",
    "        options=[\n",
    "            {'label': 'New York City', 'value': 'NYC'},\n",
    "            {'label': u'Montréal', 'value': 'MTL'},\n",
    "            {'label': 'San Francisco', 'value': 'SF'}\n",
    "        ],\n",
    "        value=['MTL', 'SF']\n",
    "    ),\n",
    "\n",
    "    html.Label('Text Input'),\n",
    "    dcc.Input(value='MTL', type='text'),\n",
    "\n",
    "    html.Label('Slider'),\n",
    "    dcc.Slider(\n",
    "        min=0,\n",
    "        max=9,\n",
    "        marks={i: 'Label {}'.format(i) if i == 1 else str(i) for i in range(1, 6)},\n",
    "        value=5,\n",
    "    ),\n",
    "], style={'columnCount': 2})\n",
    "\n",
    "if __name__ == '__main__':\n",
    "    app.run_server(debug=True)\n",
    "```"
   ]
  },
  {
   "cell_type": "markdown",
   "metadata": {},
   "source": [
    "````{figure} ./figures/dash18.png\n",
    ":name: dash18_fig\n",
    ":align: center\n",
    "````"
   ]
  },
  {
   "cell_type": "markdown",
   "metadata": {},
   "source": [
    "**Resumen**\n",
    "\n",
    "- El diseño de una aplicación `Dash` describe el aspecto de la aplicación. El diseño es un árbol jerárquico de componentes. La librería `dash_html_components` (`dash.html` a partir de `Dash v2.0`) proporciona clases para todas las etiquetas `HTML` y los argumentos de las palabras clave describen los atributos `HTML` como `style, class` e `id`. La biblioteca `dash_core_components` genera componentes de nivel superior como controles y gráficos.\n",
    "\n",
    "- Para consultar la referencia, ver:\n",
    "\n",
    "    - [Galería de componentes del núcleo de Dash](https://dash.plotly.com/dash-core-components)\n",
    "    - [Galería de componentes HTML de Dash](https://dash.plotly.com/dash-html-components)\n",
    "\n",
    "La siguiente parte de esta seccíon cubre cómo hacer estas aplicaciones interactivas. Luego estudiaremos con más profundidad algunos `Callbacks` básicos"
   ]
  },
  {
   "cell_type": "markdown",
   "metadata": {},
   "source": [
    "## Callbacks básicos Dash "
   ]
  },
  {
   "cell_type": "markdown",
   "metadata": {},
   "source": [
    "- Como se ha visto, `app.layout` describe el aspecto de la aplicación y es un árbol jerárquico de componentes. La biblioteca `dash_html_components` proporciona clases para todas las etiquetas `HTML`, y los argumentos de las palabras clave describen los atributos `HTML` como style, `className` e `id`. La biblioteca `dash_core_components` genera componentes de nivel superior como controles y gráficos.\n",
    "\n",
    "- Ahora se describirá cómo hacer que tus aplicaciones `Dash` utilicen funciones de devolución de llamada (`callbacks`): funciones que son llamadas automáticamente por `Dash` cada vez que la propiedad de un componente de entrada cambia. Comencemos con un ejemplo sencillo de una aplicación Dash interactiva.\n",
    "\n",
    "```python\n",
    "import dash\n",
    "from dash import dcc\n",
    "from dash import html\n",
    "from dash.dependencies import Input, Output\n",
    "\n",
    "app = dash.Dash(__name__)\n",
    "\n",
    "app.layout = html.Div([\n",
    "    html.H6(\"Change the value in the text box to see callbacks in action!\"),\n",
    "    html.Div([\n",
    "        \"Input: \",\n",
    "        dcc.Input(id='my-input', value='initial value', type='text')\n",
    "    ]),\n",
    "    html.Br(),\n",
    "    html.Div(id='my-output'),\n",
    "\n",
    "])\n",
    "\n",
    "\n",
    "@app.callback(\n",
    "    Output(component_id='my-output', component_property='children'),\n",
    "    Input(component_id='my-input', component_property='value')\n",
    ")\n",
    "def update_output_div(input_value):\n",
    "    return 'Output: {}'.format(input_value)\n",
    "\n",
    "\n",
    "if __name__ == '__main__':\n",
    "    app.run_server(debug=True)\n",
    "```"
   ]
  },
  {
   "cell_type": "markdown",
   "metadata": {},
   "source": [
    "**Observaciones**\n",
    "\n",
    "- Las \"`inputs`\" y \"`outputs`\" de la interfaz de nuestra aplicación se describen declarativamente como argumentos del decorador `@app.callback`.\n",
    "\n",
    "    a. Al escribir este decorador, le estamos diciendo a `Dash` que llame a esta función por nosotros cada vez que el valor del componente \"`input`\" (`la caja de texto`) cambie para actualizar los `children` del componente \"`output`\" en la página (el `div HTML`).\n",
    "\n",
    "    b. Puedes usar cualquier nombre para la función que está envuelta por el decorador `@app.callback`. La convención es que el nombre describa la(s) salida(s) del `callback`.\n",
    "    \n",
    "    c. Puede utilizar cualquier nombre para los argumentos de la función, pero debe utilizar los mismos nombres dentro de la función de devolución de llamada que en su definición, al igual que en una función normal de `Python`. Los argumentos son posicionales por defecto: primero los elementos de entrada y luego los elementos de estado se dan en el mismo orden que en el decorador. También tiene la opción de utilizar argumentos de palabra clave con nombre, en lugar de posicionales. \n",
    "    \n",
    "    d. Debes utilizar el mismo `id` que le diste a un componente `Dash` en el `app.layout` cuando te refieras a él como entrada o salida del decorador `@app.callback`.\n",
    "    \n",
    "    e. El decorador `@app.callback` debe estar directamente encima de la declaración de la función `callback`. Si hay una línea en blanco entre el decorador y la definición de la función, el registro de la devolución de llamada no tendrá éxito.\n",
    "\n",
    "- En `Dash`, los `inputs` y `outputs` de nuestra aplicación son simplemente las propiedades de un componente en particular. En este ejemplo, nuestro `input` es la propiedad \"`value`\" del componente que tiene el `ID` \"`my-input`\". Nuestra salida es la propiedad \"`children`\" del componente con el `ID` \"`my-input`\".\n",
    "\n",
    "- Cada vez que una propiedad de entrada cambia, la función que el decorador `callback` envuelve será llamada automáticamente. `Dash` proporciona a la función el nuevo valor de la propiedad de entrada como argumento de entrada y ` Dash` actualiza la propiedad del componente de salida con lo que haya devuelto la función.\n",
    "\n",
    "- Las palabras clave `component_id` y `component_property` son opcionales (sólo hay dos argumentos para cada uno de esos objetos). Se incluyen en este ejemplo para mayor claridad, pero se omitirán en el resto de la sección en aras de la brevedad y la legibilidad.\n",
    "\n",
    "- No confunda el objeto `dash.dependencies.Input` con el objeto `dcc.Input`. El primero sólo se utiliza en estas definiciones de `callback` y el segundo es un componente real. \n",
    "\n",
    "- Nótese que no establecemos un valor para la propiedad `children` del componente `my-output` en el `layout`. Cuando la aplicación `Dash` se inicia, llama automáticamente a todos los `callbacks` con los valores iniciales de los componentes de entrada para rellenar el estado inicial de los componentes de salida. En este ejemplo, si se especifica algo como `html.Div(id='my-output', children='Hola mundo')`, se sobrescribiría cuando la aplicación se inicia. \n",
    "\n",
    "- Con la interactividad de `Dash`, podemos actualizar dinámicamente cualquier propiedad a través de una función `callback`. ¡Frecuentemente actualizaremos los `children` de un componente para mostrar nuevo texto o la figura de un componente `dcc.Graph` para mostrar nuevos datos, pero también podríamos actualizar el estilo de un componente o incluso las opciones disponibles de un componente `dcc.Dropdown`. Veamos otro ejemplo en el que un `dcc.Slider` actualiza un `dcc.Graph`."
   ]
  },
  {
   "cell_type": "markdown",
   "metadata": {},
   "source": [
    "## Dash App Layout con Figura y Sliderm"
   ]
  },
  {
   "cell_type": "markdown",
   "metadata": {},
   "source": [
    "```python\n",
    "import dash\n",
    "from dash import dcc\n",
    "from dash import html\n",
    "from dash.dependencies import Input, Output\n",
    "import plotly.express as px\n",
    "\n",
    "import pandas as pd\n",
    "\n",
    "df = pd.read_csv('https://raw.githubusercontent.com/lihkir/Uninorte/main/AppliedStatisticMS/DataVisualizationRPython/Lectures/Python/PythonDataSets/gapminderDataFiveYear.csv')\n",
    "\n",
    "app = dash.Dash(__name__)\n",
    "\n",
    "app.layout = html.Div([\n",
    "    dcc.Graph(id='graph-with-slider'),\n",
    "    dcc.Slider(\n",
    "        id='year-slider',\n",
    "        min=df['year'].min(),\n",
    "        max=df['year'].max(),\n",
    "        value=df['year'].min(),\n",
    "        marks={str(year): str(year) for year in df['year'].unique()},\n",
    "        step=None\n",
    "    )\n",
    "])\n",
    "\n",
    "@app.callback(\n",
    "    Output('graph-with-slider', 'figure'),\n",
    "    Input('year-slider', 'value'))\n",
    "def update_figure(selected_year):\n",
    "    filtered_df = df[df.year == selected_year]\n",
    "\n",
    "    fig = px.scatter(filtered_df, x=\"gdpPercap\", y=\"lifeExp\",\n",
    "                     size=\"pop\", color=\"continent\", hover_name=\"country\",\n",
    "                     log_x=True, size_max=55)\n",
    "\n",
    "    fig.update_layout(transition_duration=500)\n",
    "\n",
    "    return fig\n",
    "\n",
    "\n",
    "if __name__ == '__main__':\n",
    "    app.run_server(debug=True)\n",
    "```"
   ]
  },
  {
   "cell_type": "markdown",
   "metadata": {},
   "source": [
    "````{figure} ./figures/dash19.png\n",
    ":name: dash19_fig\n",
    ":align: center\n",
    "````"
   ]
  },
  {
   "cell_type": "markdown",
   "metadata": {},
   "source": [
    "- Recuerde que siempre `puede cambiar el estilo de su figura y la hoja`. Sólo debe cambiar las siguientes lineas\n",
    "\n",
    "```python\n",
    "ext_style = \"https://cdn.jsdelivr.net/npm/bootswatch@4.5.2/dist/slate/bootstrap.min.css\"\n",
    "app = dash.Dash(external_stylesheets=[ext_style])\n",
    "\n",
    "fig = px.scatter(filtered_df, x=\"gdpPercap\", y=\"lifeExp\",\n",
    "                 size=\"pop\", color=\"continent\", hover_name=\"country\",\n",
    "                 log_x=True, size_max=55, template=\"plotly_dark\")\n",
    "```"
   ]
  },
  {
   "cell_type": "markdown",
   "metadata": {},
   "source": [
    "````{figure} ./figures/dash20.png\n",
    ":name: dash20_fig\n",
    ":align: center\n",
    "````"
   ]
  },
  {
   "cell_type": "markdown",
   "metadata": {},
   "source": [
    "- En este ejemplo, la propiedad \"`value`\" del `dcc.Slider` es la entrada de la app y la salida de la app es la propiedad \"`figure`\" del `dcc.Graph`. Cada vez que el valor del `dcc.Slider` cambia, `Dash` llama a la función callback `update_figure` con el nuevo valor. La función filtra el dataframe con este nuevo valor, construye un objeto figura y lo devuelve a la aplicación `Dash`.\n",
    "\n",
    "- Hay algunos patrones interesantes en este ejemplo:\n",
    "\n",
    "    - Utilizamos la biblioteca `Pandas` para cargar nuestro `dataframe` al inicio de la aplicación: `df = pd.read_csv('...')`. Este dataframe `df` está en el estado global de la app y puede ser leído dentro de las funciones callback.\n",
    "\n",
    "    - La carga de datos en memoria puede ser costosa. `Al cargar los datos de consulta al inicio de la app en lugar de dentro de las funciones callback, nos aseguramos de que esta operación sólo se realiza cuando se inicia el servidor de la app`. Cuando un usuario visita la app o interactúa con ella, esos datos (`df`) ya están en memoria. Si es posible, la inicialización costosa (como la descarga o la consulta de datos) debería hacerse en el ámbito global de la app en lugar de dentro de las funciones callback.\n",
    "\n",
    "    - `El callback no modifica los datos originales, sólo crea copias del dataframe filtrando a través de los filtros de pandas`. Esto es importante: `los callbacks nunca deben mutar las variables fuera de su ámbito`. Si tus callbacks modifican el estado global, entonces la sesión de un usuario podría afectar a la sesión del siguiente usuario y cuando la aplicación se despliegue en múltiples procesos o hilos, esas modificaciones no se compartirán entre sesiones.\n",
    "    \n",
    "    - Activamos las transiciones con `layout.transition` para dar una idea de cómo evoluciona el conjunto de datos con el tiempo: `las transiciones permiten que el gráfico se actualice de un estado a otro de forma suave`, como si estuviera animado, en este caso `transition_duration=500` está dado en milésimas de segundos."
   ]
  },
  {
   "cell_type": "markdown",
   "metadata": {},
   "source": [
    "## Aplicación Dash con múltiples entradas\n",
    "\n",
    "- En `Dash`, cualquier \"`Output`\" puede tener múltiples componentes \"`Input`\". Aquí hay un ejemplo simple que une cinco `Inputs` (la propiedad value de dos componentes `dcc.Dropdown`, dos componentes `dcc.RadioItems`, y un componente `dcc.Slider`) a 1 componente `Output` (la propiedad `figure` del componente `Graph`). Observe cómo `app.callback` enumera los cinco elementos de entrada después de la salida.\n",
    "\n",
    "```python\n",
    "import dash\n",
    "from dash import dcc\n",
    "from dash import html\n",
    "from dash.dependencies import Input, Output\n",
    "import plotly.express as px\n",
    "import pandas as pd\n",
    "\n",
    "app = dash.Dash(__name__)\n",
    "\n",
    "df = pd.read_csv('https://raw.githubusercontent.com/lihkir/Uninorte/main/AppliedStatisticMS/DataVisualizationRPython/Lectures/Python/PythonDataSets/country_indicators.csv')\n",
    "\n",
    "available_indicators = df['Indicator Name'].unique()\n",
    "\n",
    "app.layout = html.Div([\n",
    "    html.Div([\n",
    "\n",
    "        html.Div([\n",
    "            dcc.Dropdown(\n",
    "                id='xaxis-column',\n",
    "                options=[{'label': i, 'value': i} for i in available_indicators],\n",
    "                value='Fertility rate, total (births per woman)'\n",
    "            ),\n",
    "            dcc.RadioItems(\n",
    "                id='xaxis-type',\n",
    "                options=[{'label': i, 'value': i} for i in ['Linear', 'Log']],\n",
    "                value='Linear',\n",
    "                labelStyle={'display': 'inline-block'}\n",
    "            )\n",
    "        ], style={'width': '48%', 'display': 'inline-block'}),\n",
    "\n",
    "        html.Div([\n",
    "            dcc.Dropdown(\n",
    "                id='yaxis-column',\n",
    "                options=[{'label': i, 'value': i} for i in available_indicators],\n",
    "                value='Life expectancy at birth, total (years)'\n",
    "            ),\n",
    "            dcc.RadioItems(\n",
    "                id='yaxis-type',\n",
    "                options=[{'label': i, 'value': i} for i in ['Linear', 'Log']],\n",
    "                value='Linear',\n",
    "                labelStyle={'display': 'inline-block'}\n",
    "            )\n",
    "        ], style={'width': '48%', 'float': 'right', 'display': 'inline-block'})\n",
    "    ]),\n",
    "\n",
    "    dcc.Graph(id='indicator-graphic'),\n",
    "\n",
    "    dcc.Slider(\n",
    "        id='year--slider',\n",
    "        min=df['Year'].min(),\n",
    "        max=df['Year'].max(),\n",
    "        value=df['Year'].max(),\n",
    "        marks={str(year): str(year) for year in df['Year'].unique()},\n",
    "        step=None\n",
    "    )\n",
    "])\n",
    "\n",
    "\n",
    "@app.callback(\n",
    "    Output('indicator-graphic', 'figure'),\n",
    "    Input('xaxis-column', 'value'),\n",
    "    Input('yaxis-column', 'value'),\n",
    "    Input('xaxis-type', 'value'),\n",
    "    Input('yaxis-type', 'value'),\n",
    "    Input('year--slider', 'value'))\n",
    "def update_graph(xaxis_column_name, yaxis_column_name,\n",
    "                 xaxis_type, yaxis_type,\n",
    "                 year_value):\n",
    "    dff = df[df['Year'] == year_value]\n",
    "\n",
    "    fig = px.scatter(x=dff[dff['Indicator Name'] == xaxis_column_name]['Value'],\n",
    "                     y=dff[dff['Indicator Name'] == yaxis_column_name]['Value'],\n",
    "                     hover_name=dff[dff['Indicator Name'] == yaxis_column_name]['Country Name'])\n",
    "\n",
    "    fig.update_layout(margin={'l': 40, 'b': 40, 't': 10, 'r': 0}, hovermode='closest')\n",
    "\n",
    "    fig.update_xaxes(title=xaxis_column_name,\n",
    "                     type='linear' if xaxis_type == 'Linear' else 'log')\n",
    "\n",
    "    fig.update_yaxes(title=yaxis_column_name,\n",
    "                     type='linear' if yaxis_type == 'Linear' else 'log')\n",
    "\n",
    "    return fig\n",
    "\n",
    "\n",
    "if __name__ == '__main__':\n",
    "    app.run_server(debug=True)\n",
    "```"
   ]
  },
  {
   "cell_type": "markdown",
   "metadata": {},
   "source": [
    "````{figure} ./figures/dash21.png\n",
    ":name: dash21_fig\n",
    ":align: center\n",
    "````"
   ]
  },
  {
   "cell_type": "markdown",
   "metadata": {},
   "source": [
    "- En este ejemplo, la llamada de retorno se ejecuta cada vez que cambia la propiedad value de los componentes `dcc.Dropdown, dcc.Slider` o `dcc.RadioItems`. Los argumentos de entrada de la llamada de retorno son el valor nuevo o actual de cada una de las propiedades de entrada, en el orden en que fueron especificadas.\n",
    "\n",
    "- Aunque sólo un único `Input` cambia a la vez (un usuario sólo puede cambiar el valor de un único `Dropdown` en un momento dado), `Dash` recoge el estado actual de todas las propiedades `Input` especificadas y las pasa a su función por usted. `Se garantiza que sus funciones callback siempre reciben el estado representativo de la aplicación`."
   ]
  },
  {
   "cell_type": "markdown",
   "metadata": {},
   "source": [
    "## Aplicación Dash con múltiples salidas\n",
    "\n",
    "- Hasta ahora todos los `callbacks` que hemos escrito sólo actualizan una propiedad de salida. También podemos actualizar varias a la vez. Puede enumerar todas las propiedades que requiera actualizar en `app.callback`, y devolver ese número de elementos desde el `callback`. Esto es particularmente bueno si dos salidas dependen del mismo resultado intermedio computacionalmente intenso, como una consulta lenta a la base de datos."
   ]
  },
  {
   "cell_type": "markdown",
   "metadata": {},
   "source": [
    "```python\n",
    "import dash\n",
    "from dash import dcc\n",
    "from dash import html\n",
    "from dash.dependencies import Input, Output\n",
    "\n",
    "external_stylesheets = ['https://codepen.io/chriddyp/pen/bWLwgP.css']\n",
    "app = dash.Dash(__name__, external_stylesheets=external_stylesheets)\n",
    "\n",
    "app.layout = html.Div([\n",
    "    dcc.Input(\n",
    "        id='num-multi',\n",
    "        type='number',\n",
    "        value=5\n",
    "    ),\n",
    "    html.Table([\n",
    "        html.Tr([html.Td(['x', html.Sup(2)]), html.Td(id='square')]),\n",
    "        html.Tr([html.Td(['x', html.Sup(3)]), html.Td(id='cube')]),\n",
    "        html.Tr([html.Td([2, html.Sup('x')]), html.Td(id='twos')]),\n",
    "        html.Tr([html.Td([3, html.Sup('x')]), html.Td(id='threes')]),\n",
    "        html.Tr([html.Td(['x', html.Sup('x')]), html.Td(id='x^x')]),\n",
    "    ]),\n",
    "])\n",
    "\n",
    "\n",
    "@app.callback(\n",
    "    Output('square', 'children'),\n",
    "    Output('cube', 'children'),\n",
    "    Output('twos', 'children'),\n",
    "    Output('threes', 'children'),\n",
    "    Output('x^x', 'children'),\n",
    "    Input('num-multi', 'value'))\n",
    "def callback_a(x):\n",
    "    return x**2, x**3, 2**x, 3**x, x**x\n",
    "\n",
    "if __name__ == '__main__':\n",
    "    app.run_server(debug=True)\n",
    "```"
   ]
  },
  {
   "cell_type": "markdown",
   "metadata": {},
   "source": [
    "``````{figure} ./figures/multiple_outputs_dash.png\n",
    ":name: multiple_outputs_dash_fig\n",
    ":align: center\n",
    "``````"
   ]
  },
  {
   "cell_type": "markdown",
   "metadata": {},
   "source": [
    "- No siempre es una buena idea combinar las salidas, aunque se pueda. Si los `Outputs` dependen de algunas pero no todas los mismos `Inputs`, mantenerlas separadas puede evitar actualizaciones innecesarias. Si tienen los mismos `Inputs` pero hacen cálculos independientes con estas entradas, `mantener las devoluciones de llamada separadas puede permitir que se ejecuten en paralelo`."
   ]
  },
  {
   "cell_type": "markdown",
   "metadata": {},
   "source": [
    "## Dash App con callbacks encadenados"
   ]
  },
  {
   "cell_type": "markdown",
   "metadata": {},
   "source": [
    "- También puedes encadenar salidas y entradas. `La salida de una función callback puede ser la entrada de otra función callback`. Este patrón puede ser utilizado para crear `UIs` dinámicas donde un componente de entrada actualiza las opciones disponibles del siguiente componente de entrada"
   ]
  },
  {
   "cell_type": "markdown",
   "metadata": {},
   "source": [
    "```python\n",
    "import dash\n",
    "from dash import dcc\n",
    "from dash import html\n",
    "from dash.dependencies import Input, Output\n",
    "\n",
    "external_stylesheets = ['https://codepen.io/chriddyp/pen/bWLwgP.css']\n",
    "\n",
    "app = dash.Dash(__name__, external_stylesheets=external_stylesheets)\n",
    "\n",
    "all_options = {\n",
    "    'America': ['New York City', 'San Francisco', 'Cincinnati'],\n",
    "    'Canada': [u'Montréal', 'Toronto', 'Ottawa']\n",
    "}\n",
    "\n",
    "app.layout = html.Div([\n",
    "    dcc.RadioItems(\n",
    "        id='countries-radio',\n",
    "        options=[{'label': k, 'value': k} for k in all_options.keys()],\n",
    "        value='America'\n",
    "    ),\n",
    "    html.Hr(),\n",
    "    dcc.RadioItems(id='cities-radio'),\n",
    "    html.Hr(),\n",
    "    html.Div(id='display-selected-values')\n",
    "])\n",
    "\n",
    "@app.callback(\n",
    "    Output('cities-radio', 'options'), # <- as option\n",
    "    Input('countries-radio', 'value')) \n",
    "def set_cities_options(selected_country):\n",
    "    return [{'label': i, 'value': i} for i in all_options[selected_country]]\n",
    "\n",
    "@app.callback(\n",
    "    Output('cities-radio', 'value'), # <- as value\n",
    "    Input('cities-radio', 'options'))  # <- as option\n",
    "def set_cities_value(available_options):\n",
    "    return available_options[0]['value']\n",
    "\n",
    "@app.callback(\n",
    "    Output('display-selected-values', 'children'),\n",
    "    Input('countries-radio', 'value'),\n",
    "    Input('cities-radio', 'value'))\n",
    "def set_display_children(selected_country, selected_city):\n",
    "    return u'{} is a city in {}'.format(\n",
    "        selected_city, selected_country,\n",
    "    )\n",
    "\n",
    "if __name__ == '__main__':\n",
    "    app.run_server(debug=True)\n",
    "```"
   ]
  },
  {
   "cell_type": "markdown",
   "metadata": {},
   "source": [
    "````{figure} ./figures/dash22.png\n",
    ":name: dash22_fig\n",
    ":align: center\n",
    "````"
   ]
  },
  {
   "cell_type": "markdown",
   "metadata": {},
   "source": [
    "- El primer `callback` actualiza las opciones disponibles en el segundo componente `dcc.RadioItems` basándose en el valor seleccionado en el primer componente `dcc.RadioItems`.\n",
    "\n",
    "- `dcc.RadioItems` es un `componente para mostrar un conjunto de botones de radio (u opciones)`. Los `usuarios pueden seleccionar una opción del conjunto`.\n",
    "\n",
    "- El segundo `callback` establece un valor inicial cuando la propiedad options cambia: lo establece al primer valor de ese array de opciones.\n",
    "\n",
    "- La última llamada de retorno muestra el valor seleccionado de cada componente. Si cambia el valor del componente countries `dcc.RadioItems`, `Dash` esperará hasta que se actualice el valor del componente `cities` antes de llamar al `callback` final. Esto evita que sus `callbacks` sean llamados con un estado inconsistente como con \"`America`\" y \"`Montréal`\"."
   ]
  },
  {
   "cell_type": "markdown",
   "metadata": {},
   "source": [
    "## Dash App con Estado\n",
    "\n",
    "- En algunos casos, puede tener un patrón de tipo \"formulario\" en su aplicación. En esta situación, es posible que quieras `leer el valor del componente de entrada, pero sólo cuando el usuario haya terminado de introducir toda su información en el formulario`. Adjuntar una llamada de retorno a los valores de entrada directamente puede tener este aspecto:"
   ]
  },
  {
   "cell_type": "markdown",
   "metadata": {},
   "source": [
    "```python\n",
    "import dash\n",
    "from dash import dcc\n",
    "from dash import html\n",
    "from dash.dependencies import Input, Output\n",
    "\n",
    "external_stylesheets = [\"https://codepen.io/chriddyp/pen/bWLwgP.css\"]\n",
    "app = dash.Dash(__name__, external_stylesheets=external_stylesheets)\n",
    "\n",
    "app.layout = html.Div([\n",
    "    dcc.Input(id=\"input-1\", type=\"text\", value=\"Montréal\"),\n",
    "    dcc.Input(id=\"input-2\", type=\"text\", value=\"Canada\"),\n",
    "    html.Div(id=\"number-output\"),\n",
    "])\n",
    "\n",
    "@app.callback(\n",
    "    Output(\"number-output\", \"children\"),\n",
    "    Input(\"input-1\", \"value\"),\n",
    "    Input(\"input-2\", \"value\"),\n",
    ")\n",
    "def update_output(input1, input2):\n",
    "    return u'Input 1 is \"{}\" and Input 2 is \"{}\"'.format(input1, input2)\n",
    "\n",
    "if __name__ == \"__main__\":\n",
    "    app.run_server(debug=True)\n",
    "```"
   ]
  },
  {
   "cell_type": "markdown",
   "metadata": {},
   "source": [
    "````{figure} ./figures/dash23.png\n",
    ":name: dash23_fig\n",
    ":align: center\n",
    "````"
   ]
  },
  {
   "cell_type": "markdown",
   "metadata": {},
   "source": [
    "- En este ejemplo, `la función callback se dispara cada vez que cambia alguno de los atributos descritos por la entrada Input`. Pruébelo usted mismo introduciendo datos en las entradas anteriores. El estado le permite pasar valores adicionales sin disparar las devoluciones de llamada. Aquí está el mismo ejemplo anterior pero con el `dcc.Input` como `State` y un botón como `Input`."
   ]
  },
  {
   "cell_type": "markdown",
   "metadata": {},
   "source": [
    "## Actualizar gráficos al deslizar el cursor"
   ]
  },
  {
   "cell_type": "markdown",
   "metadata": {},
   "source": [
    "- Actualicemos nuestro ejemplo de indicadores mundiales, `actualizando las series de tiempo cuando pasamos por encima de los puntos de nuestro gráfico de dispersión`. la opción `padding` en el dash es utilizada para configurar el área de relleno en los cuatro lados de un elemento a la vez (ver [padding](https://developer.mozilla.org/en-US/docs/Web/CSS/padding))."
   ]
  },
  {
   "cell_type": "code",
   "execution_count": 1,
   "metadata": {},
   "outputs": [],
   "source": [
    "import pandas as pd"
   ]
  },
  {
   "cell_type": "code",
   "execution_count": 2,
   "metadata": {},
   "outputs": [],
   "source": [
    "df = pd.read_csv(\"https://raw.githubusercontent.com/lihkir/Uninorte/main/AppliedStatisticMS/DataVisualizationRPython/Lectures/Python/PythonDataSets/country_indicators.csv\")"
   ]
  },
  {
   "cell_type": "code",
   "execution_count": 3,
   "metadata": {},
   "outputs": [
    {
     "data": {
      "text/html": [
       "<div>\n",
       "<style scoped>\n",
       "    .dataframe tbody tr th:only-of-type {\n",
       "        vertical-align: middle;\n",
       "    }\n",
       "\n",
       "    .dataframe tbody tr th {\n",
       "        vertical-align: top;\n",
       "    }\n",
       "\n",
       "    .dataframe thead th {\n",
       "        text-align: right;\n",
       "    }\n",
       "</style>\n",
       "<table border=\"1\" class=\"dataframe\">\n",
       "  <thead>\n",
       "    <tr style=\"text-align: right;\">\n",
       "      <th></th>\n",
       "      <th>Country Name</th>\n",
       "      <th>Indicator Name</th>\n",
       "      <th>Year</th>\n",
       "      <th>Value</th>\n",
       "    </tr>\n",
       "  </thead>\n",
       "  <tbody>\n",
       "    <tr>\n",
       "      <th>0</th>\n",
       "      <td>Arab World</td>\n",
       "      <td>Agriculture, value added (% of GDP)</td>\n",
       "      <td>1962</td>\n",
       "      <td>NaN</td>\n",
       "    </tr>\n",
       "    <tr>\n",
       "      <th>1</th>\n",
       "      <td>Arab World</td>\n",
       "      <td>CO2 emissions (metric tons per capita)</td>\n",
       "      <td>1962</td>\n",
       "      <td>0.760996</td>\n",
       "    </tr>\n",
       "    <tr>\n",
       "      <th>2</th>\n",
       "      <td>Arab World</td>\n",
       "      <td>Domestic credit provided by financial sector (...</td>\n",
       "      <td>1962</td>\n",
       "      <td>18.168690</td>\n",
       "    </tr>\n",
       "    <tr>\n",
       "      <th>3</th>\n",
       "      <td>Arab World</td>\n",
       "      <td>Electric power consumption (kWh per capita)</td>\n",
       "      <td>1962</td>\n",
       "      <td>NaN</td>\n",
       "    </tr>\n",
       "    <tr>\n",
       "      <th>4</th>\n",
       "      <td>Arab World</td>\n",
       "      <td>Energy use (kg of oil equivalent per capita)</td>\n",
       "      <td>1962</td>\n",
       "      <td>NaN</td>\n",
       "    </tr>\n",
       "  </tbody>\n",
       "</table>\n",
       "</div>"
      ],
      "text/plain": [
       "  Country Name                                     Indicator Name  Year  \\\n",
       "0   Arab World                Agriculture, value added (% of GDP)  1962   \n",
       "1   Arab World             CO2 emissions (metric tons per capita)  1962   \n",
       "2   Arab World  Domestic credit provided by financial sector (...  1962   \n",
       "3   Arab World        Electric power consumption (kWh per capita)  1962   \n",
       "4   Arab World       Energy use (kg of oil equivalent per capita)  1962   \n",
       "\n",
       "       Value  \n",
       "0        NaN  \n",
       "1   0.760996  \n",
       "2  18.168690  \n",
       "3        NaN  \n",
       "4        NaN  "
      ]
     },
     "execution_count": 3,
     "metadata": {},
     "output_type": "execute_result"
    }
   ],
   "source": [
    "df.head()"
   ]
  },
  {
   "cell_type": "markdown",
   "metadata": {},
   "source": [
    "```python\n",
    "import dash\n",
    "from dash import dcc\n",
    "from dash import html\n",
    "import pandas as pd\n",
    "import plotly.express as px\n",
    "\n",
    "external_stylesheets = ['https://codepen.io/chriddyp/pen/bWLwgP.css']\n",
    "\n",
    "app = dash.Dash(__name__, external_stylesheets=external_stylesheets)\n",
    "\n",
    "df = pd.read_csv('https://raw.githubusercontent.com/lihkir/Uninorte/main/AppliedStatisticMS/DataVisualizationRPython/Lectures/Python/PythonDataSets/country_indicators.csv')\n",
    "\n",
    "available_indicators = df['Indicator Name'].unique()\n",
    "\n",
    "app.layout = html.Div([\n",
    "    html.Div([\n",
    "\n",
    "        html.Div([\n",
    "            dcc.Dropdown(\n",
    "                id='crossfilter-xaxis-column',\n",
    "                options=[{'label': i, 'value': i} for i in available_indicators],\n",
    "                value='Fertility rate, total (births per woman)'\n",
    "            ),\n",
    "            dcc.RadioItems(\n",
    "                id='crossfilter-xaxis-type',\n",
    "                options=[{'label': i, 'value': i} for i in ['Linear', 'Log']],\n",
    "                value='Linear',\n",
    "                labelStyle={'display': 'inline-block', 'marginTop': '5px'}\n",
    "            )\n",
    "        ],\n",
    "        style={'width': '49%', 'display': 'inline-block'}),\n",
    "\n",
    "        html.Div([\n",
    "            dcc.Dropdown(\n",
    "                id='crossfilter-yaxis-column',\n",
    "                options=[{'label': i, 'value': i} for i in available_indicators],\n",
    "                value='Life expectancy at birth, total (years)'\n",
    "            ),\n",
    "            dcc.RadioItems(\n",
    "                id='crossfilter-yaxis-type',\n",
    "                options=[{'label': i, 'value': i} for i in ['Linear', 'Log']],\n",
    "                value='Linear',\n",
    "                labelStyle={'display': 'inline-block', 'marginTop': '5px'}\n",
    "            )\n",
    "        ], style={'width': '49%', 'float': 'right', 'display': 'inline-block'})\n",
    "    ], style={\n",
    "        'padding': '10px 5px'\n",
    "    }),\n",
    "\n",
    "    html.Div([\n",
    "        dcc.Graph(\n",
    "            id='crossfilter-indicator-scatter',\n",
    "            hoverData={'points': [{'customdata': 'Japan'}]}\n",
    "        )\n",
    "    ], style={'width': '49%', 'display': 'inline-block', 'padding': '0 20'}),\n",
    "    html.Div([\n",
    "        dcc.Graph(id='x-time-series'),\n",
    "        dcc.Graph(id='y-time-series'),\n",
    "    ], style={'display': 'inline-block', 'width': '49%'}),\n",
    "\n",
    "    html.Div(dcc.Slider(\n",
    "        id='crossfilter-year--slider',\n",
    "        min=df['Year'].min(),\n",
    "        max=df['Year'].max(),\n",
    "        value=df['Year'].max(),\n",
    "        marks={str(year): str(year) for year in df['Year'].unique()},\n",
    "        step=None\n",
    "    ), style={'width': '49%', 'padding': '0px 20px 20px 20px'})\n",
    "])\n",
    "\n",
    "\n",
    "@app.callback(\n",
    "    dash.dependencies.Output('crossfilter-indicator-scatter', 'figure'),\n",
    "    [dash.dependencies.Input('crossfilter-xaxis-column', 'value'),\n",
    "     dash.dependencies.Input('crossfilter-yaxis-column', 'value'),\n",
    "     dash.dependencies.Input('crossfilter-xaxis-type', 'value'),\n",
    "     dash.dependencies.Input('crossfilter-yaxis-type', 'value'),\n",
    "     dash.dependencies.Input('crossfilter-year--slider', 'value')])\n",
    "def update_graph(xaxis_column_name, yaxis_column_name,\n",
    "                 xaxis_type, yaxis_type,\n",
    "                 year_value):\n",
    "    dff = df[df['Year'] == year_value]\n",
    "\n",
    "    fig = px.scatter(x=dff[dff['Indicator Name'] == xaxis_column_name]['Value'],\n",
    "            y=dff[dff['Indicator Name'] == yaxis_column_name]['Value'],\n",
    "            hover_name=dff[dff['Indicator Name'] == yaxis_column_name]['Country Name']\n",
    "            )\n",
    "\n",
    "    fig.update_traces(customdata=dff[dff['Indicator Name'] == yaxis_column_name]['Country Name'])\n",
    "\n",
    "    fig.update_xaxes(title=xaxis_column_name, type='linear' if xaxis_type == 'Linear' else 'log')\n",
    "\n",
    "    fig.update_yaxes(title=yaxis_column_name, type='linear' if yaxis_type == 'Linear' else 'log')\n",
    "\n",
    "    fig.update_layout(margin={'l': 40, 'b': 40, 't': 10, 'r': 0}, hovermode='closest')\n",
    "\n",
    "    return fig\n",
    "\n",
    "\n",
    "def create_time_series(dff, axis_type, title):\n",
    "\n",
    "    fig = px.scatter(dff, x='Year', y='Value')\n",
    "\n",
    "    fig.update_traces(mode='lines+markers')\n",
    "\n",
    "    fig.update_xaxes(showgrid=False)\n",
    "\n",
    "    fig.update_yaxes(type='linear' if axis_type == 'Linear' else 'log')\n",
    "\n",
    "    fig.add_annotation(x=0, y=0.85, xanchor='left', yanchor='bottom',\n",
    "                       xref='paper', yref='paper', showarrow=False, align='left',\n",
    "                       text=title)\n",
    "\n",
    "    fig.update_layout(height=225, margin={'l': 20, 'b': 30, 'r': 10, 't': 10})\n",
    "\n",
    "    return fig\n",
    "\n",
    "\n",
    "@app.callback(\n",
    "    dash.dependencies.Output('x-time-series', 'figure'),\n",
    "    [dash.dependencies.Input('crossfilter-indicator-scatter', 'hoverData'),\n",
    "     dash.dependencies.Input('crossfilter-xaxis-column', 'value'),\n",
    "     dash.dependencies.Input('crossfilter-xaxis-type', 'value')])\n",
    "def update_y_timeseries(hoverData, xaxis_column_name, axis_type):\n",
    "    country_name = hoverData['points'][0]['customdata']\n",
    "    dff = df[df['Country Name'] == country_name]\n",
    "    dff = dff[dff['Indicator Name'] == xaxis_column_name]\n",
    "    title = '<b>{}</b><br>{}'.format(country_name, xaxis_column_name)\n",
    "    return create_time_series(dff, axis_type, title)\n",
    "\n",
    "\n",
    "@app.callback(\n",
    "    dash.dependencies.Output('y-time-series', 'figure'),\n",
    "    [dash.dependencies.Input('crossfilter-indicator-scatter', 'hoverData'),\n",
    "     dash.dependencies.Input('crossfilter-yaxis-column', 'value'),\n",
    "     dash.dependencies.Input('crossfilter-yaxis-type', 'value')])\n",
    "def update_x_timeseries(hoverData, yaxis_column_name, axis_type):\n",
    "    dff = df[df['Country Name'] == hoverData['points'][0]['customdata']]\n",
    "    dff = dff[dff['Indicator Name'] == yaxis_column_name]\n",
    "    return create_time_series(dff, axis_type, yaxis_column_name)\n",
    "\n",
    "\n",
    "if __name__ == '__main__':\n",
    "    app.run_server(debug=True)\n",
    "```"
   ]
  },
  {
   "cell_type": "markdown",
   "metadata": {},
   "source": [
    "- Intente `pasar el mouse por encima de los puntos del gráfico de dispersión de la izquierda`. ¿Observa cómo los gráficos de líneas de la derecha se actualizan en función del punto sobre el que pasa el mouse?."
   ]
  },
  {
   "cell_type": "markdown",
   "metadata": {},
   "source": [
    "````{figure} ./figures/dash25.png\n",
    ":name: dash25_fig\n",
    ":align: center\n",
    "````"
   ]
  },
  {
   "cell_type": "markdown",
   "metadata": {},
   "source": [
    "## Dos ejemplos de Dash"
   ]
  },
  {
   "cell_type": "markdown",
   "metadata": {},
   "source": [
    "- En esta sección estudiaremos `dos ejemplos de app dash` para poner en practica lo estudiado en las dos primeras secciones. `El primero es relacionado con mapas y el segundo con series de tiempo financieras`. El objetivo principal es hacer uso de la metodología aprender por ejemplos"
   ]
  },
  {
   "cell_type": "markdown",
   "metadata": {},
   "source": [
    "## Dash App para Mapas"
   ]
  },
  {
   "cell_type": "markdown",
   "metadata": {},
   "source": [
    "- Iniciamos cargando el `DataFrame` a utlizar en nuestra app. Los datos provienen del archivo `intro_bees.csv` que contiene información sobre `enfermedades que afectan a ciertas colonias de abejas, en determinados estados en USA`. Las columnas de interés en este ejemplo son:\n",
    "\n",
    "``````python\n",
    "['State', 'ANSI', 'Affected by', 'Year', 'state_code']\n",
    "``````\n",
    "\n",
    "- El código `ANSI` es el Códigos del Instituto Nacional de Normalización: `American National Standards Institute codes (ANSI codes)`"
   ]
  },
  {
   "cell_type": "code",
   "execution_count": 4,
   "metadata": {
    "scrolled": true
   },
   "outputs": [
    {
     "data": {
      "text/html": [
       "<div>\n",
       "<style scoped>\n",
       "    .dataframe tbody tr th:only-of-type {\n",
       "        vertical-align: middle;\n",
       "    }\n",
       "\n",
       "    .dataframe tbody tr th {\n",
       "        vertical-align: top;\n",
       "    }\n",
       "\n",
       "    .dataframe thead th {\n",
       "        text-align: right;\n",
       "    }\n",
       "</style>\n",
       "<table border=\"1\" class=\"dataframe\">\n",
       "  <thead>\n",
       "    <tr style=\"text-align: right;\">\n",
       "      <th></th>\n",
       "      <th>Program</th>\n",
       "      <th>Year</th>\n",
       "      <th>Period</th>\n",
       "      <th>State</th>\n",
       "      <th>ANSI</th>\n",
       "      <th>Affected by</th>\n",
       "      <th>Pct of Colonies Impacted</th>\n",
       "      <th>state_code</th>\n",
       "    </tr>\n",
       "  </thead>\n",
       "  <tbody>\n",
       "    <tr>\n",
       "      <th>0</th>\n",
       "      <td>SURVEY</td>\n",
       "      <td>2019</td>\n",
       "      <td>JAN THRU MAR</td>\n",
       "      <td>Alabama</td>\n",
       "      <td>1</td>\n",
       "      <td>Disease</td>\n",
       "      <td>1.8</td>\n",
       "      <td>AL</td>\n",
       "    </tr>\n",
       "    <tr>\n",
       "      <th>1</th>\n",
       "      <td>SURVEY</td>\n",
       "      <td>2019</td>\n",
       "      <td>JAN THRU MAR</td>\n",
       "      <td>Alabama</td>\n",
       "      <td>1</td>\n",
       "      <td>Other</td>\n",
       "      <td>3.1</td>\n",
       "      <td>AL</td>\n",
       "    </tr>\n",
       "    <tr>\n",
       "      <th>2</th>\n",
       "      <td>SURVEY</td>\n",
       "      <td>2019</td>\n",
       "      <td>JAN THRU MAR</td>\n",
       "      <td>Alabama</td>\n",
       "      <td>1</td>\n",
       "      <td>Pesticides</td>\n",
       "      <td>0.3</td>\n",
       "      <td>AL</td>\n",
       "    </tr>\n",
       "    <tr>\n",
       "      <th>3</th>\n",
       "      <td>SURVEY</td>\n",
       "      <td>2019</td>\n",
       "      <td>JAN THRU MAR</td>\n",
       "      <td>Alabama</td>\n",
       "      <td>1</td>\n",
       "      <td>Pests_excl_Varroa</td>\n",
       "      <td>22.7</td>\n",
       "      <td>AL</td>\n",
       "    </tr>\n",
       "    <tr>\n",
       "      <th>4</th>\n",
       "      <td>SURVEY</td>\n",
       "      <td>2019</td>\n",
       "      <td>JAN THRU MAR</td>\n",
       "      <td>Alabama</td>\n",
       "      <td>1</td>\n",
       "      <td>Unknown</td>\n",
       "      <td>9.0</td>\n",
       "      <td>AL</td>\n",
       "    </tr>\n",
       "  </tbody>\n",
       "</table>\n",
       "</div>"
      ],
      "text/plain": [
       "  Program  Year        Period    State  ANSI        Affected by  \\\n",
       "0  SURVEY  2019  JAN THRU MAR  Alabama     1            Disease   \n",
       "1  SURVEY  2019  JAN THRU MAR  Alabama     1              Other   \n",
       "2  SURVEY  2019  JAN THRU MAR  Alabama     1         Pesticides   \n",
       "3  SURVEY  2019  JAN THRU MAR  Alabama     1  Pests_excl_Varroa   \n",
       "4  SURVEY  2019  JAN THRU MAR  Alabama     1            Unknown   \n",
       "\n",
       "   Pct of Colonies Impacted state_code  \n",
       "0                       1.8         AL  \n",
       "1                       3.1         AL  \n",
       "2                       0.3         AL  \n",
       "3                      22.7         AL  \n",
       "4                       9.0         AL  "
      ]
     },
     "execution_count": 4,
     "metadata": {},
     "output_type": "execute_result"
    }
   ],
   "source": [
    "import pandas as pd\n",
    "\n",
    "df = pd.read_csv(\"https://raw.githubusercontent.com/lihkir/Uninorte/main/AppliedStatisticMS/DataVisualizationRPython/Lectures/Python/PythonDataSets/intro_bees.csv\")\n",
    "df.head()"
   ]
  },
  {
   "cell_type": "markdown",
   "metadata": {},
   "source": [
    "- Luego agrupamos nuestro `DataFrame` basados en las columnas de interés y calculamos el `porcentaje promedio de colonias afectadas` para esta agrupación `'Pct of Colonies Impacted'`"
   ]
  },
  {
   "cell_type": "code",
   "execution_count": 5,
   "metadata": {
    "scrolled": true
   },
   "outputs": [
    {
     "data": {
      "text/html": [
       "<div>\n",
       "<style scoped>\n",
       "    .dataframe tbody tr th:only-of-type {\n",
       "        vertical-align: middle;\n",
       "    }\n",
       "\n",
       "    .dataframe tbody tr th {\n",
       "        vertical-align: top;\n",
       "    }\n",
       "\n",
       "    .dataframe thead th {\n",
       "        text-align: right;\n",
       "    }\n",
       "</style>\n",
       "<table border=\"1\" class=\"dataframe\">\n",
       "  <thead>\n",
       "    <tr style=\"text-align: right;\">\n",
       "      <th></th>\n",
       "      <th>State</th>\n",
       "      <th>ANSI</th>\n",
       "      <th>Affected by</th>\n",
       "      <th>Year</th>\n",
       "      <th>state_code</th>\n",
       "      <th>Pct of Colonies Impacted</th>\n",
       "    </tr>\n",
       "  </thead>\n",
       "  <tbody>\n",
       "    <tr>\n",
       "      <th>0</th>\n",
       "      <td>Alabama</td>\n",
       "      <td>1</td>\n",
       "      <td>Disease</td>\n",
       "      <td>2015</td>\n",
       "      <td>AL</td>\n",
       "      <td>0.05</td>\n",
       "    </tr>\n",
       "    <tr>\n",
       "      <th>1</th>\n",
       "      <td>Alabama</td>\n",
       "      <td>1</td>\n",
       "      <td>Disease</td>\n",
       "      <td>2016</td>\n",
       "      <td>AL</td>\n",
       "      <td>1.20</td>\n",
       "    </tr>\n",
       "    <tr>\n",
       "      <th>2</th>\n",
       "      <td>Alabama</td>\n",
       "      <td>1</td>\n",
       "      <td>Disease</td>\n",
       "      <td>2017</td>\n",
       "      <td>AL</td>\n",
       "      <td>2.25</td>\n",
       "    </tr>\n",
       "    <tr>\n",
       "      <th>3</th>\n",
       "      <td>Alabama</td>\n",
       "      <td>1</td>\n",
       "      <td>Disease</td>\n",
       "      <td>2018</td>\n",
       "      <td>AL</td>\n",
       "      <td>1.30</td>\n",
       "    </tr>\n",
       "    <tr>\n",
       "      <th>4</th>\n",
       "      <td>Alabama</td>\n",
       "      <td>1</td>\n",
       "      <td>Disease</td>\n",
       "      <td>2019</td>\n",
       "      <td>AL</td>\n",
       "      <td>1.80</td>\n",
       "    </tr>\n",
       "  </tbody>\n",
       "</table>\n",
       "</div>"
      ],
      "text/plain": [
       "     State  ANSI Affected by  Year state_code  Pct of Colonies Impacted\n",
       "0  Alabama     1     Disease  2015         AL                      0.05\n",
       "1  Alabama     1     Disease  2016         AL                      1.20\n",
       "2  Alabama     1     Disease  2017         AL                      2.25\n",
       "3  Alabama     1     Disease  2018         AL                      1.30\n",
       "4  Alabama     1     Disease  2019         AL                      1.80"
      ]
     },
     "execution_count": 5,
     "metadata": {},
     "output_type": "execute_result"
    }
   ],
   "source": [
    "df = df.groupby(['State', 'ANSI', 'Affected by', 'Year', 'state_code'])[['Pct of Colonies Impacted']].mean()\n",
    "df.reset_index(inplace=True)\n",
    "df.head()"
   ]
  },
  {
   "cell_type": "markdown",
   "metadata": {},
   "source": [
    "- Comenzamos a implementar nuestro `app.layout` que como es sabido, esta componente corresponde al \"diseño\" de la aplicación y describe el aspecto de la misma. `html.H1` recuerde que es una envoltura para el elemento `<h1> de HTML5`, elemento de encabezado de primer nivel. Luego de esto escribimos nuestro `dcc.Dropdown` con su respectivo `id` el cual sera invocado por nuesta función `callback`. El `dcc.Dropdown` corresponde a nuestro menu de opciones, en las que colocamos por defecto `value=2015`. Luego escribimos un nuevo `html.Div` para crear un output que entregue como mensaje cual fué el años seleccionado, esta es una clase `children`, pues depende del input suministrado en el `Dropdown`. Luego agregamos el componente `dcc.Graph` se puede utilizar para renderizar cualquier visualización de datos `plotly-powered`, recibe como argumento `figure`. Nótese que se le asgina también un `id` el cual será leido por nuestro `callback`"
   ]
  },
  {
   "cell_type": "markdown",
   "metadata": {},
   "source": [
    "```python\n",
    "app.layout = html.Div([\n",
    "    html.H1(\"Web Application Dashboards with Dash\", style={'text-align': 'center'}),\n",
    "    dcc.Dropdown(id=\"slct_year\",\n",
    "                 options=[\n",
    "                     {\"label\": \"2015\", \"value\": 2015},\n",
    "                     {\"label\": \"2016\", \"value\": 2016},\n",
    "                     {\"label\": \"2017\", \"value\": 2017},\n",
    "                     {\"label\": \"2018\", \"value\": 2018}],\n",
    "                 multi=False,\n",
    "                 value=2015,\n",
    "                 style={'width': \"40%\"}\n",
    "                 ),\n",
    "    html.Div(id='output_container', children=[]),\n",
    "    html.Br(),\n",
    "    dcc.Graph(id='my_bee_map', figure={})\n",
    "])\n",
    "```"
   ]
  },
  {
   "cell_type": "markdown",
   "metadata": {},
   "source": [
    "- Pasamos a implementar nuestra función `callback`. En nuestro `callback` nótese que tenemos dos outputs, `output_container` que es tipo `children`, recuerde que el propósito de la propiedad children es permitir a los usuarios anidar componentes, tal y como hacemos en `HTML`, en éste caso `Input()` permite a un componente father actualizar datos en el componente children. La función `update_graph` recibe una sola componente, esto es porque tenemos un sólo input, dado que los outputs son dos, uestro `callback` debe también retornar dos objetos, los cuales en este caso llamamos `container` y `fig`."
   ]
  },
  {
   "cell_type": "markdown",
   "metadata": {},
   "source": [
    "```python\n",
    "@app.callback(\n",
    "    [Output(component_id='output_container', component_property='children'),\n",
    "     Output(component_id='my_bee_map', component_property='figure')],\n",
    "    [Input(component_id='slct_year', component_property='value')]\n",
    ")\n",
    "def update_graph(option_slctd):\n",
    "    print(option_slctd)\n",
    "    print(type(option_slctd))\n",
    "\n",
    "    container = \"The year chosen by user was: {}\".format(option_slctd)\n",
    "\n",
    "    dff = df.copy()\n",
    "    dff = dff[dff[\"Year\"] == option_slctd]\n",
    "    dff = dff[dff[\"Affected by\"] == \"Varroa_mites\"]\n",
    "\n",
    "    fig = px.choropleth(\n",
    "        data_frame=dff,\n",
    "        locationmode='USA-states',\n",
    "        locations='state_code',\n",
    "        scope=\"usa\",\n",
    "        color='Pct of Colonies Impacted',\n",
    "        hover_data=['State', 'Pct of Colonies Impacted'],\n",
    "        color_continuous_scale=px.colors.sequential.YlOrRd,\n",
    "        labels={'Pct of Colonies Impacted': '% of Bee Colonies'},\n",
    "        template='plotly_dark'\n",
    "    )\n",
    "\n",
    "    return container, fig\n",
    "```"
   ]
  },
  {
   "cell_type": "markdown",
   "metadata": {},
   "source": [
    "- La siguiente función ya estudiada anteriormente nos permite ejecutar nuestra aplicación, colocamos la opción `debug=True` para poder activar todas las opciones de debug en nuestra app"
   ]
  },
  {
   "cell_type": "markdown",
   "metadata": {},
   "source": [
    "```python\n",
    "if __name__ == '__main__':\n",
    "    app.run_server(debug=True)\n",
    "```"
   ]
  },
  {
   "cell_type": "markdown",
   "metadata": {},
   "source": [
    "- Así vamos a visualizar nuestra plicación luego de cada uno de los paso mencionados anteriormente"
   ]
  },
  {
   "cell_type": "markdown",
   "metadata": {},
   "source": [
    "````{figure} ./figures/dash26.png\n",
    ":name: dash26_fig\n",
    ":align: center\n",
    "````"
   ]
  },
  {
   "cell_type": "markdown",
   "metadata": {},
   "source": [
    "- El codigo completo utlizado en este ejemplo es el siguiente\n",
    "\n",
    "```python\n",
    "import pandas as pd\n",
    "import plotly.express as px\n",
    "import plotly.graph_objects as go\n",
    "from dash import Dash, dcc, html, Input, Output\n",
    "\n",
    "app = Dash(__name__)\n",
    "\n",
    "df = pd.read_csv(\"https://raw.githubusercontent.com/lihkir/Uninorte/main/AppliedStatisticMS/DataVisualizationRPython/Lectures/Python/PythonDataSets/intro_bees.csv\")\n",
    "\n",
    "df = df.groupby(['State', 'ANSI', 'Affected by', 'Year', 'state_code'])[['Pct of Colonies Impacted']].mean()\n",
    "df.reset_index(inplace=True)\n",
    "print(df[:5])\n",
    "\n",
    "app.layout = html.Div([\n",
    "    html.H1(\"Web Application Dashboards with Dash\", style={'text-align': 'center'}),\n",
    "    dcc.Dropdown(id=\"slct_year\",\n",
    "                 options=[\n",
    "                     {\"label\": \"2015\", \"value\": 2015},\n",
    "                     {\"label\": \"2016\", \"value\": 2016},\n",
    "                     {\"label\": \"2017\", \"value\": 2017},\n",
    "                     {\"label\": \"2018\", \"value\": 2018}],\n",
    "                 multi=False,\n",
    "                 value=2015,\n",
    "                 style={'width': \"40%\"}\n",
    "                 ),\n",
    "    html.Div(id='output_container', children=[]),\n",
    "    html.Br(),\n",
    "    dcc.Graph(id='my_bee_map', figure={})\n",
    "])\n",
    "\n",
    "@app.callback(\n",
    "    [Output(component_id='output_container', component_property='children'),\n",
    "     Output(component_id='my_bee_map', component_property='figure')],\n",
    "    [Input(component_id='slct_year', component_property='value')]\n",
    ")\n",
    "def update_graph(option_slctd):\n",
    "\n",
    "    container = \"The year chosen by user was: {}\".format(option_slctd)\n",
    "\n",
    "    dff = df.copy()\n",
    "    dff = dff[dff[\"Year\"] == option_slctd]\n",
    "    dff = dff[dff[\"Affected by\"] == \"Varroa_mites\"]\n",
    "\n",
    "    fig = px.choropleth(\n",
    "        data_frame=dff,\n",
    "        locationmode='USA-states',\n",
    "        locations='state_code',\n",
    "        scope=\"usa\",\n",
    "        color='Pct of Colonies Impacted',\n",
    "        hover_data=['State', 'Pct of Colonies Impacted'],\n",
    "        color_continuous_scale=px.colors.sequential.YlOrRd,\n",
    "        labels={'Pct of Colonies Impacted': '% of Bee Colonies'},\n",
    "        template='plotly_dark'\n",
    "    )\n",
    "\n",
    "    return container, fig\n",
    "\n",
    "if __name__ == '__main__':\n",
    "    app.run_server(debug=True)\n",
    "```"
   ]
  },
  {
   "cell_type": "markdown",
   "metadata": {},
   "source": [
    "## Dash App Financiera"
   ]
  },
  {
   "cell_type": "markdown",
   "metadata": {},
   "source": [
    "- En esta aplicación `graficáremos el precio de distintos stocks, junto al indicador de análisis técnico, Bollinger Bands`. Este indicador considera para cualquier stock, la media del orden de preferencia, y a esta le suma y resta la desviación estándar para tener la banda. Este indicador en bastante utilizado en `análisis técnico`, sobre todo cuando deseamos conocer posibles sectores de compra y venta.  "
   ]
  },
  {
   "cell_type": "markdown",
   "metadata": {},
   "source": [
    "- Para esta app utlizaremos la librería `colorlover` la cual nos permitirá obtener una escala de colores a elegir para nuestras `bollinger bands`. Comenzamos por cargar el `DataFrame` que contiene los datos de los stocks de interés: `AAPL, TSLA, COKE, YHOO, GOOGL`, los cuales aparecen en nuestra columna `Stock`"
   ]
  },
  {
   "cell_type": "code",
   "execution_count": 6,
   "metadata": {},
   "outputs": [
    {
     "data": {
      "text/html": [
       "<div>\n",
       "<style scoped>\n",
       "    .dataframe tbody tr th:only-of-type {\n",
       "        vertical-align: middle;\n",
       "    }\n",
       "\n",
       "    .dataframe tbody tr th {\n",
       "        vertical-align: top;\n",
       "    }\n",
       "\n",
       "    .dataframe thead th {\n",
       "        text-align: right;\n",
       "    }\n",
       "</style>\n",
       "<table border=\"1\" class=\"dataframe\">\n",
       "  <thead>\n",
       "    <tr style=\"text-align: right;\">\n",
       "      <th></th>\n",
       "      <th>Unnamed: 0</th>\n",
       "      <th>Date</th>\n",
       "      <th>Open</th>\n",
       "      <th>High</th>\n",
       "      <th>Low</th>\n",
       "      <th>Close</th>\n",
       "      <th>Volume</th>\n",
       "      <th>ExDividend</th>\n",
       "      <th>SplitRatio</th>\n",
       "      <th>AdjOpen</th>\n",
       "      <th>AdjHigh</th>\n",
       "      <th>AdjLow</th>\n",
       "      <th>AdjClose</th>\n",
       "      <th>AdjVolume</th>\n",
       "      <th>Stock</th>\n",
       "    </tr>\n",
       "  </thead>\n",
       "  <tbody>\n",
       "    <tr>\n",
       "      <th>0</th>\n",
       "      <td>0</td>\n",
       "      <td>2017-12-29</td>\n",
       "      <td>170.52</td>\n",
       "      <td>170.590</td>\n",
       "      <td>169.220</td>\n",
       "      <td>169.23</td>\n",
       "      <td>25643711.0</td>\n",
       "      <td>0.0</td>\n",
       "      <td>1.0</td>\n",
       "      <td>170.52</td>\n",
       "      <td>170.590</td>\n",
       "      <td>169.220</td>\n",
       "      <td>169.23</td>\n",
       "      <td>25643711.0</td>\n",
       "      <td>AAPL</td>\n",
       "    </tr>\n",
       "    <tr>\n",
       "      <th>1</th>\n",
       "      <td>1</td>\n",
       "      <td>2017-12-28</td>\n",
       "      <td>171.00</td>\n",
       "      <td>171.850</td>\n",
       "      <td>170.480</td>\n",
       "      <td>171.08</td>\n",
       "      <td>15997739.0</td>\n",
       "      <td>0.0</td>\n",
       "      <td>1.0</td>\n",
       "      <td>171.00</td>\n",
       "      <td>171.850</td>\n",
       "      <td>170.480</td>\n",
       "      <td>171.08</td>\n",
       "      <td>15997739.0</td>\n",
       "      <td>AAPL</td>\n",
       "    </tr>\n",
       "    <tr>\n",
       "      <th>2</th>\n",
       "      <td>2</td>\n",
       "      <td>2017-12-27</td>\n",
       "      <td>170.10</td>\n",
       "      <td>170.780</td>\n",
       "      <td>169.710</td>\n",
       "      <td>170.60</td>\n",
       "      <td>21672062.0</td>\n",
       "      <td>0.0</td>\n",
       "      <td>1.0</td>\n",
       "      <td>170.10</td>\n",
       "      <td>170.780</td>\n",
       "      <td>169.710</td>\n",
       "      <td>170.60</td>\n",
       "      <td>21672062.0</td>\n",
       "      <td>AAPL</td>\n",
       "    </tr>\n",
       "    <tr>\n",
       "      <th>3</th>\n",
       "      <td>3</td>\n",
       "      <td>2017-12-26</td>\n",
       "      <td>170.80</td>\n",
       "      <td>171.470</td>\n",
       "      <td>169.679</td>\n",
       "      <td>170.57</td>\n",
       "      <td>32968167.0</td>\n",
       "      <td>0.0</td>\n",
       "      <td>1.0</td>\n",
       "      <td>170.80</td>\n",
       "      <td>171.470</td>\n",
       "      <td>169.679</td>\n",
       "      <td>170.57</td>\n",
       "      <td>32968167.0</td>\n",
       "      <td>AAPL</td>\n",
       "    </tr>\n",
       "    <tr>\n",
       "      <th>4</th>\n",
       "      <td>4</td>\n",
       "      <td>2017-12-22</td>\n",
       "      <td>174.68</td>\n",
       "      <td>175.424</td>\n",
       "      <td>174.500</td>\n",
       "      <td>175.01</td>\n",
       "      <td>16052615.0</td>\n",
       "      <td>0.0</td>\n",
       "      <td>1.0</td>\n",
       "      <td>174.68</td>\n",
       "      <td>175.424</td>\n",
       "      <td>174.500</td>\n",
       "      <td>175.01</td>\n",
       "      <td>16052615.0</td>\n",
       "      <td>AAPL</td>\n",
       "    </tr>\n",
       "  </tbody>\n",
       "</table>\n",
       "</div>"
      ],
      "text/plain": [
       "   Unnamed: 0        Date    Open     High      Low   Close      Volume  \\\n",
       "0           0  2017-12-29  170.52  170.590  169.220  169.23  25643711.0   \n",
       "1           1  2017-12-28  171.00  171.850  170.480  171.08  15997739.0   \n",
       "2           2  2017-12-27  170.10  170.780  169.710  170.60  21672062.0   \n",
       "3           3  2017-12-26  170.80  171.470  169.679  170.57  32968167.0   \n",
       "4           4  2017-12-22  174.68  175.424  174.500  175.01  16052615.0   \n",
       "\n",
       "   ExDividend  SplitRatio  AdjOpen  AdjHigh   AdjLow  AdjClose   AdjVolume  \\\n",
       "0         0.0         1.0   170.52  170.590  169.220    169.23  25643711.0   \n",
       "1         0.0         1.0   171.00  171.850  170.480    171.08  15997739.0   \n",
       "2         0.0         1.0   170.10  170.780  169.710    170.60  21672062.0   \n",
       "3         0.0         1.0   170.80  171.470  169.679    170.57  32968167.0   \n",
       "4         0.0         1.0   174.68  175.424  174.500    175.01  16052615.0   \n",
       "\n",
       "  Stock  \n",
       "0  AAPL  \n",
       "1  AAPL  \n",
       "2  AAPL  \n",
       "3  AAPL  \n",
       "4  AAPL  "
      ]
     },
     "execution_count": 6,
     "metadata": {},
     "output_type": "execute_result"
    }
   ],
   "source": [
    "df = pd.read_csv('https://raw.githubusercontent.com/lihkir/Uninorte/main/AppliedStatisticMS/DataVisualizationRPython/Lectures/Python/PythonDataSets/dash-stock-ticker-demo.csv')\n",
    "df.head()"
   ]
  },
  {
   "cell_type": "markdown",
   "metadata": {},
   "source": [
    "- Luego de cargar nuestro `DataFrame` nos disponemos a implementar nuestro `app.layout` o \"diseño\" de la aplicación, tal como lo hicimos con la aplicación anterior. En este caso usamos `html.H2` que es una envoltura para el elemento `<h2> de HTML5`, elemento de encabezado de segundo nivel, en este caso también agragamos el logo de `Plotly`, usted puede agragar el logo de su preferencia. \n",
    "\n",
    "```python\n",
    " html.Div([\n",
    "        html.H2('Finance Explorer',\n",
    "                style={'display': 'inline',\n",
    "                       'float': 'left',\n",
    "                       'font-size': '2.65em',\n",
    "                       'margin-left': '7px',\n",
    "                       'font-weight': 'bolder',\n",
    "                       'font-family': 'Product Sans',\n",
    "                       'color': \"rgba(117, 117, 117, 0.95)\",\n",
    "                       'margin-top': '20px',\n",
    "                       'margin-bottom': '0'\n",
    "                       }),\n",
    "        html.Img(src=\"https://s3-us-west-1.amazonaws.com/plotly-tutorials/logo/new-branding/dash-logo-by-plotly-stripe.png\",\n",
    "                style={\n",
    "                    'height': '100px',\n",
    "                    'float': 'right'\n",
    "                },\n",
    "        ),\n",
    "    ])\n",
    "```"
   ]
  },
  {
   "cell_type": "markdown",
   "metadata": {},
   "source": [
    "- Luego de esto escribimos nuestro `dcc.Dropdown` con su respectivo `id` el cual sera invocado por nuesta función `callback`. El `dcc.Dropdown` corresponde a nuestro menu de opciones para los diferentes `stocks`, en las que colocamos por defecto una lista con dos stocks `['YHOO', 'GOOGL']`. También creamo una división donde colocaremos cada una de las graficas asociadas a cada stock\n",
    "\n",
    "```python\n",
    "    dcc.Dropdown(\n",
    "        id='stock-ticker-input',\n",
    "        options=[{'label': s[0], 'value': str(s[1])}\n",
    "                 for s in zip(df.Stock.unique(), df.Stock.unique())],\n",
    "        value=['YHOO', 'GOOGL'],\n",
    "        multi=True\n",
    "    ),\n",
    "    html.Div(id='graphs')\n",
    "```"
   ]
  },
  {
   "cell_type": "markdown",
   "metadata": {},
   "source": [
    "- Definimos la función encargada de calcular nuestro indicado de análisis tecnico. En esta definimos el periodo para nuestra media movil `window_size=10` y además de esto el numero de desviaciones estandar a las que deseamos distar de esta media `num_of_std=5`\n",
    "\n",
    "```python\n",
    "def bbands(price, window_size=10, num_of_std=5):\n",
    "    rolling_mean = price.rolling(window=window_size).mean()\n",
    "    rolling_std  = price.rolling(window=window_size).std()\n",
    "    upper_band = rolling_mean + (rolling_std*num_of_std)\n",
    "    lower_band = rolling_mean - (rolling_std*num_of_std)\n",
    "    return rolling_mean, upper_band, lower_band\n",
    "```"
   ]
  },
  {
   "cell_type": "markdown",
   "metadata": {},
   "source": [
    "- Definimos ahora nuestra función `callback` la cual tendrá como `Output` en este caso las figuras correspondiente al indicador para cada stock. El mensaje de encabezado `\"Select a stock ticker.\"` aparecerá si en la caja no aparece ningún stock, indicando que debe seleccionarse el simbolo `ticker` del stock de interés. Una vez recibido este `ticker` filtramos nuestro `DataFame` por `Stock` que coincida con el `Inpunt ticker` y seleccionamos para este nuevo `DataFrame` las columnas que necesitamos para el indicador `bollinger band` y seleccionamos de la escala de colores el color a utlizar en nuestras bandas de bollinger que será el input de la función encargada de calcular las bandas `bbands`, vamos escalando los colores de acuerdo a la banda que se va a dibujar. Vamos a ir agregando a `graphs` cada una de las graficas que vamos obteniendo para mostrarlas todas en nuestra app una debajo de la otra. La figuras van indezadas con `id=ticker` y son obtenidas al realizar la adición `[candlestick] + bollinger_traces`. Los siguiente comandos son usados para las dimensiones del margen en nuestra figura y la ubcación de la leyenda: `'margin': {'b': 0, 'r': 10, 'l': 60, 't': 0},` y `'legend': {'x': 0}`. \n",
    "\n",
    "\n",
    "```python\n",
    "@app.callback(Output('graphs','children'),\n",
    "    [Input('stock-ticker-input', 'value')])\n",
    "def update_graph(tickers):\n",
    "    graphs = []\n",
    "\n",
    "    if not tickers:\n",
    "        graphs.append(html.H3(\n",
    "            \"Select a stock ticker.\",\n",
    "            style={'marginTop': 20, 'marginBottom': 20}\n",
    "        ))\n",
    "    else:\n",
    "        for i, ticker in enumerate(tickers):\n",
    "\n",
    "            dff = df[df['Stock'] == ticker]\n",
    "\n",
    "            candlestick = {\n",
    "                'x': dff['Date'],\n",
    "                'open': dff['Open'],\n",
    "                'high': dff['High'],\n",
    "                'low': dff['Low'],\n",
    "                'close': dff['Close'],\n",
    "                'type': 'candlestick',\n",
    "                'name': ticker,\n",
    "                'legendgroup': ticker,\n",
    "                'increasing': {'line': {'color': colorscale[0]}},\n",
    "                'decreasing': {'line': {'color': colorscale[1]}}\n",
    "            }\n",
    "            bb_bands = bbands(dff.Close)\n",
    "            bollinger_traces = [{\n",
    "                'x': dff['Date'], 'y': y,\n",
    "                'type': 'scatter', 'mode': 'lines',\n",
    "                'line': {'width': 1, 'color': colorscale[(i*2) % len(colorscale)]},\n",
    "                'hoverinfo': 'none',\n",
    "                'legendgroup': ticker,\n",
    "                'showlegend': True if i == 0 else False,\n",
    "                'name': '{} - bollinger bands'.format(ticker)\n",
    "            } for i, y in enumerate(bb_bands)]\n",
    "            graphs.append(dcc.Graph(\n",
    "                id=ticker,\n",
    "                figure={\n",
    "                    'data': [candlestick] + bollinger_traces,\n",
    "                    'layout': {\n",
    "                        'margin': {'b': 0, 'r': 10, 'l': 60, 't': 0},\n",
    "                        'legend': {'x': 0}\n",
    "                    }\n",
    "                }\n",
    "            ))\n",
    "\n",
    "    return graphs\n",
    "```"
   ]
  },
  {
   "cell_type": "markdown",
   "metadata": {},
   "source": [
    "- Así vamos a visualizar nuestra plicación luego de cada uno de los paso mencionados anteriormente"
   ]
  },
  {
   "cell_type": "markdown",
   "metadata": {},
   "source": [
    "````{figure} ./figures/dash27.png\n",
    ":name: dash27_fig\n",
    ":align: center\n",
    "````"
   ]
  },
  {
   "cell_type": "markdown",
   "metadata": {},
   "source": [
    "- El código completo de la app lo presentamos a continuación. Ejecútela desde su terminal o editor `VS Code` por ejemplo. Antes debe instalar `colorlover` por medio de\n",
    "\n",
    "``````python\n",
    "pip install colorlover\n",
    "``````"
   ]
  },
  {
   "cell_type": "markdown",
   "metadata": {},
   "source": [
    "```python\n",
    "from dash import Dash, dcc, html, Input, Output\n",
    "import colorlover as cl\n",
    "import datetime as dt\n",
    "import flask\n",
    "import os\n",
    "import pandas as pd\n",
    "import time\n",
    "\n",
    "app = Dash(__name__)\n",
    "\n",
    "server = app.server\n",
    "\n",
    "app.scripts.config.serve_locally = False\n",
    "\n",
    "colorscale = cl.scales['9']['qual']['Paired']\n",
    "\n",
    "df = pd.read_csv('https://raw.githubusercontent.com/lihkir/Uninorte/main/AppliedStatisticMS/DataVisualizationRPython/Lectures/Python/PythonDataSets/dash-stock-ticker-demo.csv')\n",
    "\n",
    "app.layout = html.Div([\n",
    "    html.Div([\n",
    "        html.H2('Finance Explorer',\n",
    "                style={'display': 'inline',\n",
    "                       'float': 'left',\n",
    "                       'font-size': '2.65em',\n",
    "                       'margin-left': '7px',\n",
    "                       'font-weight': 'bolder',\n",
    "                       'font-family': 'Product Sans',\n",
    "                       'color': \"rgba(117, 117, 117, 0.95)\",\n",
    "                       'margin-top': '20px',\n",
    "                       'margin-bottom': '0'\n",
    "                       }),\n",
    "        html.Img(src=\"https://s3-us-west-1.amazonaws.com/plotly-tutorials/logo/new-branding/dash-logo-by-plotly-stripe.png\",\n",
    "                style={\n",
    "                    'height': '100px',\n",
    "                    'float': 'right'\n",
    "                },\n",
    "        ),\n",
    "    ]),\n",
    "    dcc.Dropdown(\n",
    "        id='stock-ticker-input',\n",
    "        options=[{'label': s[0], 'value': str(s[1])}\n",
    "                 for s in zip(df.Stock.unique(), df.Stock.unique())],\n",
    "        value=['YHOO', 'GOOGL'],\n",
    "        multi=True\n",
    "    ),\n",
    "    html.Div(id='graphs')\n",
    "], className=\"container\")\n",
    "\n",
    "def bbands(price, window_size=10, num_of_std=5):\n",
    "    rolling_mean = price.rolling(window=window_size).mean()\n",
    "    rolling_std  = price.rolling(window=window_size).std()\n",
    "    upper_band = rolling_mean + (rolling_std*num_of_std)\n",
    "    lower_band = rolling_mean - (rolling_std*num_of_std)\n",
    "    return rolling_mean, upper_band, lower_band\n",
    "\n",
    "@app.callback(Output('graphs','children'),\n",
    "    [Input('stock-ticker-input', 'value')])\n",
    "def update_graph(tickers):\n",
    "    graphs = []\n",
    "\n",
    "    if not tickers:\n",
    "        graphs.append(html.H3(\n",
    "            \"Select a stock ticker.\",\n",
    "            style={'marginTop': 20, 'marginBottom': 20}\n",
    "        ))\n",
    "    else:\n",
    "        for i, ticker in enumerate(tickers):\n",
    "\n",
    "            dff = df[df['Stock'] == ticker]\n",
    "\n",
    "            candlestick = {\n",
    "                'x': dff['Date'],\n",
    "                'open': dff['Open'],\n",
    "                'high': dff['High'],\n",
    "                'low': dff['Low'],\n",
    "                'close': dff['Close'],\n",
    "                'type': 'candlestick',\n",
    "                'name': ticker,\n",
    "                'legendgroup': ticker,\n",
    "                'increasing': {'line': {'color': colorscale[0]}},\n",
    "                'decreasing': {'line': {'color': colorscale[1]}}\n",
    "            }\n",
    "            bb_bands = bbands(dff.Close)\n",
    "            bollinger_traces = [{\n",
    "                'x': dff['Date'], 'y': y,\n",
    "                'type': 'scatter', 'mode': 'lines',\n",
    "                'line': {'width': 1, 'color': colorscale[(i*2) % len(colorscale)]},\n",
    "                'hoverinfo': 'none',\n",
    "                'legendgroup': ticker,\n",
    "                'showlegend': True if i == 0 else False,\n",
    "                'name': '{} - bollinger bands'.format(ticker)\n",
    "            } for i, y in enumerate(bb_bands)]\n",
    "            graphs.append(dcc.Graph(\n",
    "                id=ticker,\n",
    "                figure={\n",
    "                    'data': [candlestick] + bollinger_traces,\n",
    "                    'layout': {\n",
    "                        'margin': {'b': 0, 'r': 10, 'l': 60, 't': 0},\n",
    "                        'legend': {'x': 0}\n",
    "                    }\n",
    "                }\n",
    "            ))\n",
    "\n",
    "    return graphs\n",
    "\n",
    "if __name__ == '__main__':\n",
    "    app.run_server(debug=True)\n",
    "```"
   ]
  },
  {
   "cell_type": "markdown",
   "metadata": {},
   "source": [
    "**`Conclusión`**\n",
    "\n",
    "- Por medio de estas dos aplicaciones se ha abordado cada concepto básico relacionado con el diseño de una app utilizando `Dash` y `Plotly` teniendo en cuenta lo estudiado en secciones anteriores. Ahora procedemos a estudiar como podemos desplegar nuestra aplicación en `Docker`."
   ]
  },
  {
   "cell_type": "markdown",
   "metadata": {},
   "source": [
    "## Despliegue de Dash App usando Docker"
   ]
  },
  {
   "cell_type": "markdown",
   "metadata": {},
   "source": [
    "````{admonition} Introducción\n",
    "- `Docker` y `Dash` son herramientas útiles para `alojar aplicaciones en diversos entornos`. `Dockerizar` una imagen para `Dash` resulta conveniente para `desplegar tableros de control (dashboards`) en múltiples escenarios. En esta sección, se explica cómo `Dockerizar Dash en una imagen Docker`. El proceso comienza con el uso de una aplicación `Dash` probada localmente en la sección anterior. Luego, `se crea un Dockerfile, que contiene instrucciones para construir un contenedor Docker que hospedará el dashboard`.\n",
    "````"
   ]
  },
  {
   "cell_type": "markdown",
   "metadata": {},
   "source": [
    "- Una vez que haya preparado su `Dash`, puede empezar a `Dockerizarlo` creando un archivo nombrado **`Dockerfile`** (Dockerfile, sin ninguna extensión). El `Dockerfile representa una imagen Docker` y contiene `instrucciones sobre las operaciones a realizar cuando se construye un contenedor`. \n",
    "- A continuación presentamos el `Dockerfile` usado para Dockerizar una aplicación `Dash` que reposa en el archivo `index.py`. Cada uno de los siguientes archivos listados, `deben estar contenidos en el mismo directorio`, como se ve en la siguiente imagen."
   ]
  },
  {
   "cell_type": "markdown",
   "metadata": {},
   "source": [
    "````{figure} ./figures/docker_project.png\n",
    ":name: docker_project_fig\n",
    ":align: center\n",
    "````"
   ]
  },
  {
   "cell_type": "markdown",
   "metadata": {},
   "source": [
    "- El objetivo es crear un directorio para nuestro `Dockerfile` el cual contenga la aplicación `index.py`, un `README` y un archivo de requerimientos `requirements.txt`. En este ejemplo se ha creado una carpeta nombrada `barplot_fruits`, donde va a reposar la imagen `docker` con los archivos mencionados previamente"
   ]
  },
  {
   "cell_type": "markdown",
   "metadata": {},
   "source": [
    "- Dentro del archivo `.py` que usará para su aplicación debe copiar el código del `dash` que se va a `dockerizar` en este ejemplo. A continuación puede copiar el código y colocarlo en el archivo `index.py`. `Warning`: Para probar su dash `utilice el servidor por defecto para depuración`\n",
    "\n",
    "``````python\n",
    "app.run_server(debug=True)\n",
    "``````\n",
    "\n",
    "- Para `Dockerizar` su dashboard, `antes del último paso de esta sección`, debe cambiar la función que ejecuta el servidor a:\n",
    "\n",
    "``````python\n",
    "app.run_server(debug=True, host='0.0.0.0', port=9000)\n",
    "``````"
   ]
  },
  {
   "cell_type": "markdown",
   "metadata": {},
   "source": [
    "``````python\n",
    "import dash\n",
    "from dash import dcc\n",
    "from dash import html\n",
    "import plotly.express as px\n",
    "import pandas as pd\n",
    "\n",
    "ext_style = \"https://cdn.jsdelivr.net/npm/bootswatch@4.5.2/dist/darkly/bootstrap.min.css\"\n",
    "app = dash.Dash(external_stylesheets=[ext_style])\n",
    "\n",
    "df = pd.DataFrame({\n",
    "    \"Fruit\": [\"Apples\", \"Oranges\", \"Bananas\", \"Apples\", \"Oranges\", \"Bananas\"],\n",
    "    \"Amount\": [4, 1, 2, 2, 4, 5],\n",
    "    \"City\": [\"SF\", \"SF\", \"SF\", \"Montreal\", \"Montreal\", \"Montreal\"]\n",
    "})\n",
    "\n",
    "fig = px.bar(df, x = \"Fruit\", y = \"Amount\", color = \"City\", barmode = \"group\", template = \"plotly_dark\")\n",
    "\n",
    "app.layout = html.Div(children=[\n",
    "    html.H1(children = 'Hello Dash'),\n",
    "    \n",
    "    html.Div(children='''Dash: A web application framework for your data.'''),\n",
    "\n",
    "    dcc.Graph(\n",
    "        id='example-graph',\n",
    "        figure=fig\n",
    "    )\n",
    "])\n",
    "\n",
    "if __name__ == \"__main__\":\n",
    "    app.run_server(debug=True) # <- For testing purposes\n",
    "    #app.run_server(debug=True, host='0.0.0.0', port=9000) # <- To Dockerize the Dash\n",
    "``````"
   ]
  },
  {
   "cell_type": "markdown",
   "metadata": {},
   "source": [
    "- Antes de `Dockerizar` su dash, es recomendable crear para este un entorno dedicado, el cual solo se use para crear la imagen `Docker` de su aplicación. Para crear el ambiente virtual de `miniconda` recuerde que puede usar el gestor de instalación de paquetes `conda`. Por ejemplo para crear el entorno virtual `dash_venv`\n",
    "\n",
    "``````shell\n",
    "conda create --name dash_venv python=3.9\n",
    "``````"
   ]
  },
  {
   "cell_type": "markdown",
   "metadata": {},
   "source": [
    "- Luego de haber creado el entorno virtual `dash_venv`, el siguiente paso es ejecutar la aplicación de interés, a saber `index.py` dentro del environment. Dado que el entorno se ha creado recientemente, deberá instalar cada librería necesaria. Por ejemplo, `dash, plotly, pandas`,..... Para verificar que la aplicación funciona correctamente, desde la consola de `miniconda` `ubicado siempre en el directorio barplot_fruits donde se encuentre el archivo index.py` debe ejecutar:\n",
    "\n",
    "``````shell\n",
    "python index.py\n",
    "``````"
   ]
  },
  {
   "cell_type": "markdown",
   "metadata": {},
   "source": [
    "- Al ejecutar la línea anterior surgirán errores asociados con requerimientos de instalación tales como: `dash, plotly, pandas`, etc,. Realice la instalación de cada uno de estos. Luego de finalizada la instalación, `verifique que efectivamente la aplicación está funcionando correctamente`."
   ]
  },
  {
   "cell_type": "markdown",
   "metadata": {},
   "source": [
    "- El siguiente paso es crear nuestro archivo de requerimientos `requirements.txt`. Para esto debe primero que todo `ubicarse dentro de la carpeta barplot_fruit desde miniconda`. En esta carpeta reposa su aplicación, el archivo `index.py` y además, todos los archivo para su imagen `Docker`. Para crear el archivo de requerimientos, dentro de esta carpeta debe ejecutar\n",
    "\n",
    "``````shell\n",
    "pip freeze > requirements.txt\n",
    "``````"
   ]
  },
  {
   "cell_type": "markdown",
   "metadata": {},
   "source": [
    "- En ocasiones el paso anterior genera conflictos, creando algunas líneas extrañas dentro del archivo `requirements.txt` del tipo `@ file:///opt/...`. Si este es su caso, puede solucionar este problema de la siguiente forma. Primero que todo, elimine el archivo de requerimientos actual, esto es, el archivo `requirements.txt`. Una vez eliminado, debe generarlo nuevamente usando\n",
    "\n",
    "``````shell\n",
    "pip list --format=freeze > requirements.txt\n",
    "``````"
   ]
  },
  {
   "cell_type": "markdown",
   "metadata": {},
   "source": [
    "- El siguiente paso es crear nuestro archivo `Dockerfile` que va a generar nuestra imagen `Docker`. Para esto, debe crear un archivo nombrado *`Dockerfile`* sin ninguna extensión, dentro de la carpeta de su proyecto `barplot_fruit`. Puede crearlo usando `VS Code` directamente. Dentro de este archivo debe colocar lo siguiente. Al final se realiza una explicación del contenido de este archivo"
   ]
  },
  {
   "cell_type": "markdown",
   "metadata": {},
   "source": [
    "````dockerfile\n",
    "FROM python:3.9.17\n",
    "\n",
    "COPY ./requirements.txt /requirements.txt\n",
    "\n",
    "RUN pip install --upgrade pip\n",
    "RUN pip install --no-cache-dir --upgrade -r /requirements.txt\n",
    "\n",
    "COPY ./index.py /index.py\n",
    "\n",
    "CMD [\"python\", \"index.py\"]\n",
    "````"
   ]
  },
  {
   "cell_type": "markdown",
   "metadata": {},
   "source": [
    "- Verifique en el `Dockerfile`, la versión de `Python` que aparece en la primera línea, coincide con la versión de `Python` que tiene instalada en el entorno virtual creado para este proyecto. Verifique también que el nombre de la aplicación `dash`, que aparece en las dos últimas líneas, coincide con el de su archivo `.py` dentro del directorio de su proyecto."
   ]
  },
  {
   "cell_type": "markdown",
   "metadata": {},
   "source": [
    "- El siguiente proceso consiste en crear un archivo `README` el cual contiene `instrucciones para ejecutar el contenedor con el dashboard`. El siguiente es un ejemplo de `README`"
   ]
  },
  {
   "cell_type": "markdown",
   "metadata": {},
   "source": [
    "````shell\n",
    "# Execute the following commands to Dockerize the Dash application\n",
    "\n",
    "docker build -t barplot_fruits .\n",
    "docker run -h localhost -p 9002:9000 -d --name barplot_fruits barplot_fruits\n",
    "````"
   ]
  },
  {
   "cell_type": "markdown",
   "metadata": {},
   "source": [
    "- El último paso para crear la imagen `Docker` es el siguiente. `Primero que todo, debe iniciar la aplicación Docker`. Posteriormente, dentro de la carpeta de su proyecto y desde `miniconda`, debe ejecutar el par de líneas indicadas en el archivo `README`"
   ]
  },
  {
   "cell_type": "markdown",
   "metadata": {},
   "source": [
    "``````shell\n",
    "docker build -t barplot_fruits .\n",
    "``````"
   ]
  },
  {
   "cell_type": "markdown",
   "metadata": {},
   "source": [
    "``````shell\n",
    "docker run -h localhost -p 9002:9000 -d --name barplot_fruits barplot_fruits\n",
    "``````"
   ]
  },
  {
   "cell_type": "markdown",
   "metadata": {},
   "source": [
    "- Si ningún error ocurrió hasta este momento, usted podrá visualizar dentro de su aplicación Docker, la imagen y y el contenedor asociado a su dashboard, en este caso con el nombre: `barplot_fruits`. Además, podrá ejecutarla haciendo click en los puertos expuestos para su `dash`, en este caso: `9002:9000`."
   ]
  },
  {
   "cell_type": "markdown",
   "metadata": {},
   "source": [
    "````{figure} ./figures/docker_dashapp.png\n",
    ":align: center\n",
    "````"
   ]
  },
  {
   "cell_type": "markdown",
   "metadata": {},
   "source": [
    "- En **`conclusión`**, en un `Dockerfile` para Dockerizar una aplicación Dash, se debe agregar lo siguiente:\n",
    "    - Declarar la imagen base `Python`: `python:3.9.17` (o la que corresponda)\n",
    "    - Instalar todas las `dependencias necesarias`, incluyendo las dependencias tanto para `Plotly` como para `Dash`\n",
    "    - Ejecutar antes el `dashboard` que ha construido en un `environment separado`. Dentro de este environment, contruya el archivo de requerimientos mediante:\n",
    "      ````shell\n",
    "      pip freeze > requirements.txt\n",
    "      ````\n",
    "    - Una vez preparado el `Dockerfile`, puedes construir el contenedor y ejecutarlo usando las instrucciones del archivo `README`. Recuerde que `debe tener iniciada la aplicación Docker`"
   ]
  },
  {
   "cell_type": "markdown",
   "metadata": {},
   "source": [
    "- El código del archivo `README` realiza lo siguiente:\n",
    "\n",
    "    - La primera línea construye un contenedor `Docker` basado en el `Dockerfile` y lo nombra `barplot_fruits`. Debe `asegúrate de incluir \".\" al final para indicar el directorio del archivo Docker`.\n",
    "    - Una vez construido el contenedor `Docker`, la segunda línea ejecuta la orden para `exponer la aplicación Dash en localhost:9002`. `9002:9000 significa mapear el puerto 9000 en el contenedor al puerto 9002 en tu entorno local`.\n",
    "    - La razón para mapear el puerto 9000 del contenedor es porque `se declaró la aplicación Dash en el Puerto 9000 en el script Python`.\n",
    "    - Para `exponer la aplicación Dash`, debe `establecer el host = '0.0.0.0' en el entorno del contenedor`! No funcionará si lo pones en `127.0.0.1`."
   ]
  },
  {
   "cell_type": "markdown",
   "metadata": {},
   "source": [
    "## Lista de Dockerfiles"
   ]
  },
  {
   "cell_type": "markdown",
   "metadata": {},
   "source": [
    "`Dockerfile`\n",
    "````dockerfile\n",
    "FROM python:3.9.17\n",
    "\n",
    "COPY ./requirements.txt /requirements.txt\n",
    "\n",
    "RUN pip install --upgrade pip\n",
    "RUN pip install --no-cache-dir --upgrade -r /requirements.txt\n",
    "\n",
    "COPY ./index.py /index.py\n",
    "\n",
    "CMD [\"python\", \"index.py\"]\n",
    "````"
   ]
  },
  {
   "cell_type": "markdown",
   "metadata": {},
   "source": [
    "`index.py`\n",
    "\n",
    "````python\n",
    "import dash\n",
    "from dash import dcc\n",
    "from dash import html\n",
    "import plotly.express as px\n",
    "import pandas as pd\n",
    "\n",
    "ext_style = \"https://cdn.jsdelivr.net/npm/bootswatch@4.5.2/dist/darkly/bootstrap.min.css\"\n",
    "app = dash.Dash(external_stylesheets=[ext_style])\n",
    "\n",
    "df = pd.DataFrame({\n",
    "    \"Fruit\": [\"Apples\", \"Oranges\", \"Bananas\", \"Apples\", \"Oranges\", \"Bananas\"],\n",
    "    \"Amount\": [4, 1, 2, 2, 4, 5],\n",
    "    \"City\": [\"SF\", \"SF\", \"SF\", \"Montreal\", \"Montreal\", \"Montreal\"]\n",
    "})\n",
    "\n",
    "fig = px.bar(df, x = \"Fruit\", y = \"Amount\", color = \"City\", barmode = \"group\", template = \"plotly_dark\")\n",
    "\n",
    "app.layout = html.Div(children=[\n",
    "    html.H1(children = 'Hello Dash'),\n",
    "    \n",
    "    html.Div(children='''Dash: A web application framework for your data.'''),\n",
    "\n",
    "    dcc.Graph(\n",
    "        id='example-graph',\n",
    "        figure=fig\n",
    "    )\n",
    "])\n",
    "\n",
    "if __name__ == \"__main__\":\n",
    "    app.run_server(debug=True, host='0.0.0.0', port=9000)\n",
    "````"
   ]
  },
  {
   "cell_type": "markdown",
   "metadata": {},
   "source": [
    "`requirements.txt`\n",
    "\n",
    "````shell\n",
    "ansi2html==1.8.0\n",
    "certifi==2023.7.22\n",
    "charset-normalizer==3.3.0\n",
    "click==8.1.7\n",
    "colorama==0.4.6\n",
    "dash==2.14.0\n",
    "dash-core-components==2.0.0\n",
    "dash-html-components==2.0.0\n",
    "dash-table==5.0.0\n",
    "Flask==2.2.5\n",
    "idna==3.4\n",
    "importlib-metadata==6.8.0\n",
    "itsdangerous==2.1.2\n",
    "Jinja2==3.1.2\n",
    "MarkupSafe==2.1.3\n",
    "nest-asyncio==1.5.8\n",
    "numpy==1.26.1\n",
    "packaging==23.2\n",
    "pandas==2.1.1\n",
    "plotly==5.17.0\n",
    "python-dateutil==2.8.2\n",
    "pytz==2023.3.post1\n",
    "requests==2.31.0\n",
    "retrying==1.3.4\n",
    "six==1.16.0\n",
    "tenacity==8.2.3\n",
    "typing_extensions==4.8.0\n",
    "tzdata==2023.3\n",
    "urllib3==2.0.7\n",
    "Werkzeug==2.2.3\n",
    "zipp==3.17.0\n",
    "````"
   ]
  },
  {
   "cell_type": "markdown",
   "metadata": {},
   "source": [
    "`README`\n",
    "\n",
    "````shell\n",
    "# Execute the following commands to Dockerize the Dash application\n",
    "\n",
    "docker build -t barplot_fruits .\n",
    "docker run -h localhost -p 9002:9000 -d --name barplot_fruits barplot_fruits\n",
    "````"
   ]
  },
  {
   "cell_type": "markdown",
   "metadata": {},
   "source": [
    "````{admonition} Observación\n",
    "`Dockerizar un tablero Dash es muy fácil`, sólo tienes que `añadir un Dockerfile con un par de líneas de instrucciones, construir un contenedor con él, ¡y ejecutarlo!`\n",
    "````"
   ]
  },
  {
   "cell_type": "markdown",
   "metadata": {},
   "source": [
    "- A continuación se muestran `outputs en consola` al ejecutar el `Dockerfile`, para crear la imagen `Docker`"
   ]
  },
  {
   "cell_type": "markdown",
   "metadata": {},
   "source": [
    "````{figure} ./figures/docker_build.png\n",
    ":name: docker_build_fig\n",
    ":align: center\n",
    "````"
   ]
  },
  {
   "cell_type": "markdown",
   "metadata": {},
   "source": [
    "````{figure} ./figures/docker_run.png\n",
    ":name: docker_run_fig\n",
    ":align: center\n",
    "````"
   ]
  },
  {
   "cell_type": "markdown",
   "metadata": {},
   "source": [
    "````{figure} ./figures/docker_dashapp.png\n",
    ":align: center\n",
    "````"
   ]
  },
  {
   "cell_type": "markdown",
   "metadata": {},
   "source": [
    "- Si desea desplegar la aplicación, debe dirigirse a la aplicación `Docker`. Dentro de esta debe buscar la imagen creada en el botón `Images`. Posteriormente, en contenedores, podrá visualizar el contenedor creado, a saber (`barplot_fruits`), y a la derecha los puertos donde se ejecuta el dash en el `daemon`. Haga click sobre este puerto para visualizar su `dashboard`"
   ]
  },
  {
   "cell_type": "markdown",
   "metadata": {},
   "source": [
    "``````{figure} ./figures/barplot_fruits_dockerized.png\n",
    ":name: barplot_fruits_dockerized_fig\n",
    ":align: center\n",
    "``````"
   ]
  },
  {
   "cell_type": "markdown",
   "metadata": {},
   "source": [
    "## Ejercicio para entregar"
   ]
  },
  {
   "cell_type": "markdown",
   "metadata": {},
   "source": [
    "- `Dockerize` los dashboard de los dos ejemplos estudiados en la sección **`Dos ejemplos de Dash`**. Esto es. Crear dos imágenes `Docker` para los `Dash` asociados con: `Dash App para Mapas` y `Dash App Financiera`. Realice cambios en el (`back/front end`) de los dos `Dashboards`. Por ejemplo, agréguele a los dashboard `nuevos estilos` y `operaciones que puedan mejorar la visualización`. Tenga en cuenta los diferentes templates usados en esta sección. "
   ]
  },
  {
   "cell_type": "markdown",
   "metadata": {},
   "source": []
  }
 ],
 "metadata": {
  "kernelspec": {
   "display_name": "ml_tf",
   "language": "python",
   "name": "python3"
  },
  "language_info": {
   "codemirror_mode": {
    "name": "ipython",
    "version": 3
   },
   "file_extension": ".py",
   "mimetype": "text/x-python",
   "name": "python",
   "nbconvert_exporter": "python",
   "pygments_lexer": "ipython3",
   "version": "3.9.17"
  },
  "toc": {
   "base_numbering": "1",
   "nav_menu": {},
   "number_sections": true,
   "sideBar": true,
   "skip_h1_title": true,
   "title_cell": "Tabla de contenido",
   "title_sidebar": "Contents",
   "toc_cell": true,
   "toc_position": {
    "height": "calc(100% - 180px)",
    "left": "10px",
    "top": "150px",
    "width": "307.2px"
   },
   "toc_section_display": true,
   "toc_window_display": false
  }
 },
 "nbformat": 4,
 "nbformat_minor": 4
}
